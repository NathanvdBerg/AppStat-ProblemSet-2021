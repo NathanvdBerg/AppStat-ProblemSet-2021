{
 "cells": [
  {
   "cell_type": "markdown",
   "metadata": {},
   "source": [
    "# Problem 4.2: Shuffled Cards - data reader\n",
    "\n",
    "The following is a small program to read the data file \"data_ShuffledCards.txt\", which contains four columns: Number in deck, Card name, Value, and Suit.\n",
    "\n",
    "### Author & Date: \n",
    "- Troels C. Petersen (Niels Bohr Institute)\n",
    "- 07-11-2021\n",
    "\n",
    "***"
   ]
  },
  {
   "cell_type": "code",
   "execution_count": 1,
   "metadata": {},
   "outputs": [],
   "source": [
    "# Read the data and print it to check it:\n",
    "import numpy as np\n",
    "import matplotlib.pyplot as plt"
   ]
  },
  {
   "cell_type": "code",
   "execution_count": 2,
   "metadata": {},
   "outputs": [
    {
     "name": "stdout",
     "output_type": "stream",
     "text": [
      "Number of entries:  52\n",
      "   1:    13     4\n",
      "   2:     9     1\n",
      "   3:    14     2\n",
      "   4:    12     4\n",
      "   5:    11     4\n",
      "   6:     8     1\n",
      "   7:    13     2\n",
      "   8:     8     4\n",
      "   9:    10     4\n",
      "  10:     7     1\n",
      "  11:    11     2\n",
      "  12:     7     4\n",
      "  13:     9     4\n",
      "  14:     5     1\n",
      "  15:    10     2\n",
      "  16:     3     4\n",
      "  17:     6     4\n",
      "  18:     4     1\n",
      "  19:     7     2\n",
      "  20:     2     2\n",
      "  21:     5     4\n",
      "  22:     3     1\n",
      "  23:     6     2\n",
      "  24:    13     1\n",
      "  25:     4     4\n",
      "  26:     2     1\n",
      "  27:     5     2\n",
      "  28:    11     3\n",
      "  29:    14     3\n",
      "  30:     9     2\n",
      "  31:     2     4\n",
      "  32:    10     3\n",
      "  33:    14     1\n",
      "  34:     8     2\n",
      "  35:    13     3\n",
      "  36:     9     3\n",
      "  37:    12     1\n",
      "  38:     4     2\n",
      "  39:    12     3\n",
      "  40:     8     3\n",
      "  41:    10     1\n",
      "  42:     3     2\n",
      "  43:     4     3\n",
      "  44:     7     3\n",
      "  45:     6     1\n",
      "  46:    14     4\n",
      "  47:     3     3\n",
      "  48:     5     3\n",
      "  49:    12     2\n",
      "  50:     6     3\n",
      "  51:    11     1\n",
      "  52:     2     3\n"
     ]
    }
   ],
   "source": [
    "data = np.genfromtxt(\"./data_ShuffledCards.txt\", skip_header=2)\n",
    "number = data[:,0]\n",
    "value = data[:,4]\n",
    "suit = data[:,5]\n",
    "\n",
    "print(\"Number of entries: \", len(number))\n",
    "for i in range(len(number)) : \n",
    "    print(f\"  {int(number[i]):2.0f}:  {value[i]:4.0f}   {suit[i]:3.0f}\")"
   ]
  },
  {
   "cell_type": "code",
   "execution_count": 3,
   "metadata": {},
   "outputs": [],
   "source": [
    "def draw_card(N, deck, replacement):\n",
    "    \"\"\"Draw N cards from a deck, don't replace the drawn cards.\"\"\"\n",
    "    return deck[np.random.choice(deck.shape[0], size=N, replace=replacement), :]\n",
    "\n",
    "def count_aces(draw):\n",
    "    \"\"\"Count the number of aces in a draw\n",
    "    An ace has value 14\"\"\"\n",
    "    return np.count_nonzero(draw == 14)"
   ]
  },
  {
   "cell_type": "code",
   "execution_count": 4,
   "metadata": {},
   "outputs": [],
   "source": [
    "def run_experiment(deck, N_trials, replacement=True):\n",
    "    draws = []\n",
    "    ace_counts = np.zeros(N_trials)\n",
    "\n",
    "    for i in range(N_trials):\n",
    "        draw = draw_card(4, deck, replacement)\n",
    "        #print(draw)\n",
    "        draws.append(draw)\n",
    "        ace_counts[i] = count_aces(draw)\n",
    "    print(ace_counts)\n",
    "    \n",
    "    bins = 5 # 5 possible results, 0, 1, 2, 3 or 4 aces in a draw\n",
    "    bin_range = (-0.5, 4+0.5)\n",
    "\n",
    "    fig,ax = plt.subplots()\n",
    "    counts, bin_edges, not_used = ax.hist(ace_counts,bins=bins,range=bin_range,density=True)\n",
    "    \n",
    "    # Probability of finding 3 aces or more is the sum of the last two bins\n",
    "    prob = counts[-2] + counts[-1]\n",
    "    print(f'Probability of drawing 3 or more aces = {prob:.10f}')\n",
    "\n",
    "    # Add some text to the plot\n",
    "    ax.plot([], [], ' ', label=f'P(3+ aces) = {prob:.4f}')\n",
    "    \n",
    "    ax.set_xlabel('Number of aces in draw')\n",
    "    ax.set_ylabel('Probability')\n",
    "    \n",
    "    ax.legend()\n",
    "    plt.show()"
   ]
  },
  {
   "cell_type": "code",
   "execution_count": 5,
   "metadata": {},
   "outputs": [],
   "source": [
    "deck = np.stack((number, value, suit),axis=1)\n",
    "#print(deck)\n",
    "\n",
    "N_trials = 1000000"
   ]
  },
  {
   "cell_type": "code",
   "execution_count": 6,
   "metadata": {},
   "outputs": [
    {
     "name": "stdout",
     "output_type": "stream",
     "text": [
      "[0. 0. 0. ... 0. 1. 0.]\n",
      "Probability of drawing 3 or more aces = 0.0032080000\n"
     ]
    },
    {
     "data": {
      "image/png": "[encoded data removed]",
      "text/plain": [
       "<Figure size 432x288 with 1 Axes>"
      ]
     },
     "metadata": {
      "needs_background": "light"
     },
     "output_type": "display_data"
    }
   ],
   "source": [
    "run_experiment(deck, N_trials, replacement=True)"
   ]
  },
  {
   "cell_type": "code",
   "execution_count": 7,
   "metadata": {},
   "outputs": [
    {
     "name": "stdout",
     "output_type": "stream",
     "text": [
      "[1. 0. 1. ... 0. 0. 1.]\n",
      "Probability of drawing 3 or more aces = 0.0017910000\n"
     ]
    },
    {
     "data": {
      "image/png": "[encoded data removed]",
      "text/plain": [
       "<Figure size 432x288 with 1 Axes>"
      ]
     },
     "metadata": {
      "needs_background": "light"
     },
     "output_type": "display_data"
    }
   ],
   "source": [
    "run_experiment(deck, N_trials, replacement=False)"
   ]
  },
  {
   "cell_type": "code",
   "execution_count": 8,
   "metadata": {},
   "outputs": [
    {
     "name": "stdout",
     "output_type": "stream",
     "text": [
      "0.7260249991246807 0.24200833304156022 0.030251041630195027 0.0016806134238997238 3.501277966457758e-05\n",
      "1.0000000000000002\n",
      "0.0017156262035643013\n"
     ]
    }
   ],
   "source": [
    "p_0 = (48/52)**4\n",
    "p_1 = 4 * (4/52) * (48/52)**3\n",
    "p_2 = 6 * (4/52)**2 * (48/52)**2\n",
    "p_3 = 4 * (4/52)**3 * (48/52)\n",
    "p_4 = (4/52)**4\n",
    "\n",
    "print(p_0,p_1,p_2,p_3,p_4)\n",
    "\n",
    "print(p_0+p_1+p_2+p_3+p_4)\n",
    "\n",
    "theoretical_value = p_3+p_4\n",
    "print(theoretical_value)"
   ]
  },
  {
   "cell_type": "code",
   "execution_count": 9,
   "metadata": {},
   "outputs": [
    {
     "data": {
      "image/png": "[encoded data removed]",
      "text/plain": [
       "<Figure size 432x288 with 1 Axes>"
      ]
     },
     "metadata": {
      "needs_background": "light"
     },
     "output_type": "display_data"
    }
   ],
   "source": [
    "half1 = deck[:int(52/2),:]\n",
    "half2 = deck[int(52/2):,:]\n",
    "#print(half1,half2)\n",
    "\n",
    "my_bins = 14\n",
    "my_range = (0.5,14.5)\n",
    "\n",
    "fig1,ax1 = plt.subplots()\n",
    "ax1.hist(half1[:,1],bins=my_bins,range=my_range,alpha=0.5,label='1st half')\n",
    "ax1.hist(half2[:,1],bins=my_bins,range=my_range,alpha=0.5,label='2nd half')\n",
    "\n",
    "ax1.set_xlabel('Value')\n",
    "\n",
    "ax1.legend()\n",
    "plt.savefig('Problem_4.2_value.png',dpi=600)"
   ]
  },
  {
   "cell_type": "code",
   "execution_count": 10,
   "metadata": {},
   "outputs": [
    {
     "data": {
      "image/png": "[encoded data removed]",
      "text/plain": [
       "<Figure size 432x288 with 1 Axes>"
      ]
     },
     "metadata": {
      "needs_background": "light"
     },
     "output_type": "display_data"
    }
   ],
   "source": [
    "half1 = deck[:int(52/2),:]\n",
    "half2 = deck[int(52/2):,:]\n",
    "#print(half1,half2)\n",
    "\n",
    "my_bins = 4\n",
    "my_range = (0.5,4.5)\n",
    "\n",
    "fig1,ax1 = plt.subplots()\n",
    "ax1.hist(half1[:,2],bins=my_bins,range=my_range,alpha=0.5,label='1st half')\n",
    "ax1.hist(half2[:,2],bins=my_bins,range=my_range,alpha=0.5,label='2nd half')\n",
    "\n",
    "ax1.set_xlabel('Suit')\n",
    "\n",
    "ax1.legend()\n",
    "plt.savefig('Problem_4.2_suit.png',dpi=600)"
   ]
  }
 ],
 "metadata": {
  "executable": "/usr/bin/env python",
  "kernelspec": {
   "display_name": "Python 3",
   "language": "python",
   "name": "python3"
  },
  "language_info": {
   "codemirror_mode": {
    "name": "ipython",
    "version": 3
   },
   "file_extension": ".py",
   "mimetype": "text/x-python",
   "name": "python",
   "nbconvert_exporter": "python",
   "pygments_lexer": "ipython3",
   "version": "3.8.8"
  },
  "main_language": "python"
 },
 "nbformat": 4,
 "nbformat_minor": 2
}

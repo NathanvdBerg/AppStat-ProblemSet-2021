{
 "cells": [
  {
   "cell_type": "code",
   "execution_count": 2,
   "id": "7b70a535",
   "metadata": {},
   "outputs": [],
   "source": [
    "import numpy as np\n",
    "import matplotlib.pyplot as plt"
   ]
  },
  {
   "cell_type": "code",
   "execution_count": 3,
   "id": "187cdb33",
   "metadata": {},
   "outputs": [],
   "source": [
    "def roll_die_N_times(die_values, N):\n",
    "    results = []\n",
    "    for i in range(N):\n",
    "        results.append(np.random.choice(die_values))\n",
    "    return np.array(results)\n",
    "\n",
    "def count_3s(results):\n",
    "    return np.count_nonzero(results==3)"
   ]
  },
  {
   "cell_type": "code",
   "execution_count": 22,
   "id": "90e05a9a",
   "metadata": {},
   "outputs": [
    {
     "data": {
      "image/png": "[encoded data removed]",
      "text/plain": [
       "<Figure size 432x288 with 1 Axes>"
      ]
     },
     "metadata": {
      "needs_background": "light"
     },
     "output_type": "display_data"
    }
   ],
   "source": [
    "die_values = [1,2,3,4,5,6]\n",
    "N_rolls = 20\n",
    "N_exp = 1000\n",
    "\n",
    "counts = np.zeros(N_exp)\n",
    "\n",
    "for iexp in range(N_exp):\n",
    "    results = roll_die_N_times(die_values, N_rolls)\n",
    "    counts[iexp] = count_3s(results)\n",
    "\n",
    "plt.hist(counts)\n",
    "plt.show()\n"
   ]
  },
  {
   "cell_type": "code",
   "execution_count": 23,
   "id": "1a771ad6",
   "metadata": {},
   "outputs": [
    {
     "name": "stdout",
     "output_type": "stream",
     "text": [
      "0.9628646569613276\n",
      "0.037135343038672386\n"
     ]
    }
   ],
   "source": [
    "from scipy.stats import binom\n",
    "n = 6\n",
    "N_rolls = 20\n",
    "p = 1/6\n",
    "\n",
    "print(binom.cdf(n,N_rolls,p))\n",
    "print(1 - binom.cdf(n,N_rolls,p))"
   ]
  }
 ],
 "metadata": {
  "kernelspec": {
   "display_name": "Python 3",
   "language": "python",
   "name": "python3"
  },
  "language_info": {
   "codemirror_mode": {
    "name": "ipython",
    "version": 3
   },
   "file_extension": ".py",
   "mimetype": "text/x-python",
   "name": "python",
   "nbconvert_exporter": "python",
   "pygments_lexer": "ipython3",
   "version": "3.8.8"
  }
 },
 "nbformat": 4,
 "nbformat_minor": 5
}

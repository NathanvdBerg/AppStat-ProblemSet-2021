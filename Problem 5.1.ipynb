{
 "cells": [
  {
   "cell_type": "markdown",
   "metadata": {},
   "source": [
    "# Problem 5.1: Solar Power - data reader\n",
    "\n",
    "The following is a small program to read the data file \"data_SolarPower.txt\", which contains three columns: Year, cumulative solar power capacity (in MW), and Price (USD/Watt installed)\n",
    "\n",
    "### Author & Date: \n",
    "- Troels C. Petersen (Niels Bohr Institute)\n",
    "- 07-11-2021\n",
    "\n",
    "***"
   ]
  },
  {
   "cell_type": "code",
   "execution_count": 1,
   "metadata": {},
   "outputs": [],
   "source": [
    "# Read the data and print it to check it:\n",
    "import numpy as np\n",
    "import matplotlib.pyplot as plt\n",
    "\n",
    "from ExternalFunctions import Chi2Regression\n",
    "\n",
    "from scipy import stats\n",
    "from iminuit import Minuit                             # The actual fitting tool, better than scipy's"
   ]
  },
  {
   "cell_type": "code",
   "execution_count": 2,
   "metadata": {},
   "outputs": [
    {
     "name": "stdout",
     "output_type": "stream",
     "text": [
      "Number of entries:  44\n",
      "  1976:        0.30   106.100\n",
      "  1977:        0.85    80.630\n",
      "  1978:        1.80    56.230\n",
      "  1979:        3.30    47.740\n",
      "  1980:        6.50    35.010\n",
      "  1981:       12.50    26.520\n",
      "  1982:       20.00    22.280\n",
      "  1983:       43.00    19.090\n",
      "  1984:       67.00    16.970\n",
      "  1985:       90.00    14.850\n",
      "  1986:      120.00    11.140\n",
      "  1987:      150.00     8.486\n",
      "  1988:      175.00     7.532\n",
      "  1989:      220.00     8.168\n",
      "  1990:      270.00     8.805\n",
      "  1991:      330.00     7.956\n",
      "  1992:      400.00     7.213\n",
      "  1993:      450.00     7.107\n",
      "  1994:      500.00     6.365\n",
      "  1995:      575.00     5.834\n",
      "  1996:      700.00     6.046\n",
      "  1997:      800.00     6.365\n",
      "  1998:      975.00     5.728\n",
      "  1999:     1250.00     5.092\n",
      "  2000:     1500.00     4.879\n",
      "  2001:     1750.00     4.773\n",
      "  2002:     2300.00     4.031\n",
      "  2003:     3000.00     3.978\n",
      "  2004:     4300.00     4.137\n",
      "  2005:     6000.00     4.243\n",
      "  2006:     8500.00     4.455\n",
      "  2007:    10300.00     4.137\n",
      "  2008:    20000.00     3.447\n",
      "  2009:    30000.00     2.386\n",
      "  2010:    40279.00     2.044\n",
      "  2011:    72034.00     1.677\n",
      "  2012:   101518.00     0.876\n",
      "  2013:   135754.00     0.696\n",
      "  2014:   171589.00     0.641\n",
      "  2015:   217341.00     0.596\n",
      "  2016:   291079.00     0.550\n",
      "  2017:   383596.00     0.462\n",
      "  2018:   480984.00     0.411\n",
      "  2019:   578553.00     0.377\n"
     ]
    }
   ],
   "source": [
    "year, capacity, price = np.loadtxt(\"data_SolarPower.txt\", skiprows=2, delimiter=\"\\t\", unpack=True)\n",
    "\n",
    "print(\"Number of entries: \", len(year))\n",
    "for i in range(len(year)) : \n",
    "    print(f\"  {int(year[i]):4d}:  {capacity[i]:10.2f}   {price[i]:7.3f}\")"
   ]
  },
  {
   "cell_type": "code",
   "execution_count": 3,
   "metadata": {},
   "outputs": [
    {
     "data": {
      "image/png": "[encoded data removed]",
      "text/plain": [
       "<Figure size 432x288 with 1 Axes>"
      ]
     },
     "metadata": {
      "needs_background": "light"
     },
     "output_type": "display_data"
    }
   ],
   "source": [
    "fig1, ax1 = plt.subplots()\n",
    "ax1.plot(capacity, price)\n",
    "\n",
    "ax1.set_xlabel(r'Cumulative solar power capacity ($MW$)')\n",
    "ax1.set_ylabel(r'Price ($\\$/W$)')\n",
    "\n",
    "ax1.set_xscale('log')\n",
    "ax1.set_yscale('log')\n",
    "\n",
    "plt.show()"
   ]
  },
  {
   "cell_type": "code",
   "execution_count": 4,
   "metadata": {},
   "outputs": [],
   "source": [
    "def power_law(x,a,b):\n",
    "    return a*x**(-b)"
   ]
  },
  {
   "cell_type": "code",
   "execution_count": 5,
   "metadata": {},
   "outputs": [],
   "source": [
    "def do_a_chi2_fit(x_data, y_data, sigma_y_data, f, init_guess):\n",
    "    \"\"\"Does a chi2 fit, plots results and returns the minuit output\n",
    "    init_guess needs to have the initial fit parameters in a list format (e.g. [a,b,c])\"\"\"\n",
    "    chi2 = Chi2Regression(f, x_data, y_data, sigma_y_data)\n",
    "    chi2.errordef = 1\n",
    "    minuit_chi2 = Minuit(chi2, *init_guess) #   \n",
    "    display(minuit_chi2.migrad())          # Perform the actual fit\n",
    "\n",
    "    # Get number of degrees-of-freedom (Ndof):\n",
    "    Ndof_value = len(x_data) - minuit_chi2.nfit\n",
    "\n",
    "    chi2_value = minuit_chi2.fval\n",
    "    p_value = stats.chi2.sf(chi2_value, Ndof_value) # The chi2 probability given N_DOF degrees of freedom\n",
    "    print(f\"Chi2 value: {chi2_value:.1f}   Ndof = {Ndof_value:.0f}    Prob(Chi2,Ndof) = {p_value:5.10f}\")\n",
    "\n",
    "    return minuit_chi2, Ndof_value, p_value"
   ]
  },
  {
   "cell_type": "code",
   "execution_count": 6,
   "metadata": {},
   "outputs": [
    {
     "data": {
      "text/html": [
       "<table>\n",
       "    <tr>\n",
       "        <th colspan=\"5\" style=\"text-align:center\" title=\"Minimizer\"> Migrad </th>\n",
       "    </tr>\n",
       "    <tr>\n",
       "        <td colspan=\"2\" style=\"text-align:left\" title=\"Minimum value of function\"> FCN = 86.6 </td>\n",
       "        <td colspan=\"3\" style=\"text-align:center\" title=\"No. of function evaluations in last call and total number\"> Nfcn = 146 </td>\n",
       "    </tr>\n",
       "    <tr>\n",
       "        <td colspan=\"2\" style=\"text-align:left\" title=\"Estimated distance to minimum and goal\"> EDM = 8.77e-05 (Goal: 0.0002) </td>\n",
       "        <td colspan=\"3\" style=\"text-align:center\" title=\"No. of gradient evaluations in last call and total number\">  </td>\n",
       "    </tr>\n",
       "    <tr>\n",
       "        <td colspan=\"2\" style=\"text-align:center;background-color:#92CCA6;color:black\"> Valid Minimum </td>\n",
       "        <td colspan=\"3\" style=\"text-align:center;background-color:#92CCA6;color:black\"> No Parameters at limit </td>\n",
       "    </tr>\n",
       "    <tr>\n",
       "        <td colspan=\"2\" style=\"text-align:center;background-color:#92CCA6;color:black\"> Below EDM threshold (goal x 10) </td>\n",
       "        <td colspan=\"3\" style=\"text-align:center;background-color:#92CCA6;color:black\"> Below call limit </td>\n",
       "    </tr>\n",
       "    <tr>\n",
       "        <td style=\"text-align:center;background-color:#92CCA6;color:black\"> Covariance </td>\n",
       "        <td style=\"text-align:center;background-color:#92CCA6;color:black\"> Hesse ok </td>\n",
       "        <td style=\"text-align:center;background-color:#92CCA6;color:black\" title=\"Is covariance matrix accurate?\"> Accurate </td>\n",
       "        <td style=\"text-align:center;background-color:#92CCA6;color:black\" title=\"Is covariance matrix positive definite?\"> Pos. def. </td>\n",
       "        <td style=\"text-align:center;background-color:#92CCA6;color:black\" title=\"Was positive definiteness enforced by Minuit?\"> Not forced </td>\n",
       "    </tr>\n",
       "</table><table>\n",
       "    <tr>\n",
       "        <td></td>\n",
       "        <th title=\"Variable name\"> Name </th>\n",
       "        <th title=\"Value of parameter\"> Value </th>\n",
       "        <th title=\"Hesse error\"> Hesse Error </th>\n",
       "        <th title=\"Minos lower error\"> Minos Error- </th>\n",
       "        <th title=\"Minos upper error\"> Minos Error+ </th>\n",
       "        <th title=\"Lower limit of the parameter\"> Limit- </th>\n",
       "        <th title=\"Upper limit of the parameter\"> Limit+ </th>\n",
       "        <th title=\"Is the parameter fixed in the fit\"> Fixed </th>\n",
       "    </tr>\n",
       "    <tr>\n",
       "        <th> 0 </th>\n",
       "        <td> a </td>\n",
       "        <td> 72.9 </td>\n",
       "        <td> 3.4 </td>\n",
       "        <td>  </td>\n",
       "        <td>  </td>\n",
       "        <td>  </td>\n",
       "        <td>  </td>\n",
       "        <td>  </td>\n",
       "    </tr>\n",
       "    <tr>\n",
       "        <th> 1 </th>\n",
       "        <td> b </td>\n",
       "        <td> 0.381 </td>\n",
       "        <td> 0.006 </td>\n",
       "        <td>  </td>\n",
       "        <td>  </td>\n",
       "        <td>  </td>\n",
       "        <td>  </td>\n",
       "        <td>  </td>\n",
       "    </tr>\n",
       "</table><table>\n",
       "    <tr>\n",
       "        <td></td>\n",
       "        <th> a </th>\n",
       "        <th> b </th>\n",
       "    </tr>\n",
       "    <tr>\n",
       "        <th> a </th>\n",
       "        <td> 11.2 </td>\n",
       "        <td style=\"background-color:rgb(250,120,120);color:black\"> 0.0164 <strong>(0.864)</strong> </td>\n",
       "    </tr>\n",
       "    <tr>\n",
       "        <th> b </th>\n",
       "        <td style=\"background-color:rgb(250,120,120);color:black\"> 0.0164 <strong>(0.864)</strong> </td>\n",
       "        <td> 3.23e-05 </td>\n",
       "    </tr>\n",
       "</table>"
      ],
      "text/plain": [
       "┌─────────────────────────────────────────────────────────────────────────┐\n",
       "│                                Migrad                                   │\n",
       "├──────────────────────────────────┬──────────────────────────────────────┤\n",
       "│ FCN = 86.6                       │              Nfcn = 146              │\n",
       "│ EDM = 8.77e-05 (Goal: 0.0002)    │                                      │\n",
       "├──────────────────────────────────┼──────────────────────────────────────┤\n",
       "│          Valid Minimum           │        No Parameters at limit        │\n",
       "├──────────────────────────────────┼──────────────────────────────────────┤\n",
       "│ Below EDM threshold (goal x 10)  │           Below call limit           │\n",
       "├───────────────┬──────────────────┼───────────┬─────────────┬────────────┤\n",
       "│  Covariance   │     Hesse ok     │ Accurate  │  Pos. def.  │ Not forced │\n",
       "└───────────────┴──────────────────┴───────────┴─────────────┴────────────┘\n",
       "┌───┬──────┬───────────┬───────────┬────────────┬────────────┬─────────┬─────────┬───────┐\n",
       "│   │ Name │   Value   │ Hesse Err │ Minos Err- │ Minos Err+ │ Limit-  │ Limit+  │ Fixed │\n",
       "├───┼──────┼───────────┼───────────┼────────────┼────────────┼─────────┼─────────┼───────┤\n",
       "│ 0 │ a    │   72.9    │    3.4    │            │            │         │         │       │\n",
       "│ 1 │ b    │   0.381   │   0.006   │            │            │         │         │       │\n",
       "└───┴──────┴───────────┴───────────┴────────────┴────────────┴─────────┴─────────┴───────┘\n",
       "┌───┬───────────────────┐\n",
       "│   │        a        b │\n",
       "├───┼───────────────────┤\n",
       "│ a │     11.2   0.0164 │\n",
       "│ b │   0.0164 3.23e-05 │\n",
       "└───┴───────────────────┘"
      ]
     },
     "metadata": {},
     "output_type": "display_data"
    },
    {
     "name": "stdout",
     "output_type": "stream",
     "text": [
      "Chi2 value: 86.6   Ndof = 42    Prob(Chi2,Ndof) = 0.0000622638\n"
     ]
    },
    {
     "data": {
      "image/png": "[encoded data removed]",
      "text/plain": [
       "<Figure size 432x288 with 1 Axes>"
      ]
     },
     "metadata": {
      "needs_background": "light"
     },
     "output_type": "display_data"
    }
   ],
   "source": [
    "sigma_price = price*0.15\n",
    "\n",
    "# Do a chi2 fit\n",
    "minuit_chi2_pl, Ndof_value, p_value = do_a_chi2_fit(capacity, price, sigma_price, power_law, [1,1])\n",
    "\n",
    "# Plot\n",
    "x_axis = np.linspace(np.min(capacity), np.max(capacity), 1000)\n",
    "y_axis = power_law(x_axis,*minuit_chi2_pl.values)\n",
    "\n",
    "fig2, ax2 = plt.subplots()\n",
    "ax2.errorbar(capacity, price, yerr=sigma_price, label='Data')\n",
    "ax2.plot(x_axis, y_axis,label=f'Chi2 fit to power law\\np(Chi2={minuit_chi2_pl.fval:.1f},Ndof={Ndof_value:d}) = {p_value:.5f}')\n",
    "\n",
    "ax2.set_xlabel(r'Cumulative solar power capacity ($MW$)')\n",
    "ax2.set_ylabel(r'Price ($\\$/W$)')\n",
    "\n",
    "ax2.set_xscale('log')\n",
    "ax2.set_yscale('log')\n",
    "\n",
    "ax2.legend()\n",
    "\n",
    "plt.show()"
   ]
  },
  {
   "cell_type": "code",
   "execution_count": 7,
   "metadata": {},
   "outputs": [],
   "source": [
    "def z_score(val, mu, sigma):\n",
    "    \"\"\"The Z-score describes how many sigma away from the mean a value is.\"\"\"\n",
    "    return (val-mu)/sigma"
   ]
  },
  {
   "cell_type": "code",
   "execution_count": 8,
   "metadata": {},
   "outputs": [
    {
     "data": {
      "image/png": "[encoded data removed]",
      "text/plain": [
       "<Figure size 432x288 with 1 Axes>"
      ]
     },
     "metadata": {
      "needs_background": "light"
     },
     "output_type": "display_data"
    }
   ],
   "source": [
    "theo_val = power_law(capacity,*minuit_chi2_pl.values)\n",
    "z_values = z_score(theo_val, price, sigma_price)\n",
    "\n",
    "fig_z1, ax_z1 = plt.subplots()\n",
    "ax_z1.scatter(capacity, z_values, label='Z score of each data point',color='red')\n",
    "ax_z1.plot([capacity[0],capacity[-1]],[2,2],label='2 sigma away',color='black')\n",
    "ax_z1.plot([capacity[0],capacity[-1]],[-2,-2],label='2 sigma away',color='black')\n",
    "\n",
    "ax_z1.set_xscale('log')\n",
    "ax_z1.legend()\n",
    "\n",
    "plt.show()"
   ]
  },
  {
   "cell_type": "code",
   "execution_count": 9,
   "metadata": {},
   "outputs": [
    {
     "data": {
      "text/html": [
       "<table>\n",
       "    <tr>\n",
       "        <th colspan=\"5\" style=\"text-align:center\" title=\"Minimizer\"> Migrad </th>\n",
       "    </tr>\n",
       "    <tr>\n",
       "        <td colspan=\"2\" style=\"text-align:left\" title=\"Minimum value of function\"> FCN = 86.6 </td>\n",
       "        <td colspan=\"3\" style=\"text-align:center\" title=\"No. of function evaluations in last call and total number\"> Nfcn = 35 </td>\n",
       "    </tr>\n",
       "    <tr>\n",
       "        <td colspan=\"2\" style=\"text-align:left\" title=\"Estimated distance to minimum and goal\"> EDM = 2.42e-07 (Goal: 0.0002) </td>\n",
       "        <td colspan=\"3\" style=\"text-align:center\" title=\"No. of gradient evaluations in last call and total number\">  </td>\n",
       "    </tr>\n",
       "    <tr>\n",
       "        <td colspan=\"2\" style=\"text-align:center;background-color:#92CCA6;color:black\"> Valid Minimum </td>\n",
       "        <td colspan=\"3\" style=\"text-align:center;background-color:#92CCA6;color:black\"> No Parameters at limit </td>\n",
       "    </tr>\n",
       "    <tr>\n",
       "        <td colspan=\"2\" style=\"text-align:center;background-color:#92CCA6;color:black\"> Below EDM threshold (goal x 10) </td>\n",
       "        <td colspan=\"3\" style=\"text-align:center;background-color:#92CCA6;color:black\"> Below call limit </td>\n",
       "    </tr>\n",
       "    <tr>\n",
       "        <td style=\"text-align:center;background-color:#92CCA6;color:black\"> Covariance </td>\n",
       "        <td style=\"text-align:center;background-color:#92CCA6;color:black\"> Hesse ok </td>\n",
       "        <td style=\"text-align:center;background-color:#92CCA6;color:black\" title=\"Is covariance matrix accurate?\"> Accurate </td>\n",
       "        <td style=\"text-align:center;background-color:#92CCA6;color:black\" title=\"Is covariance matrix positive definite?\"> Pos. def. </td>\n",
       "        <td style=\"text-align:center;background-color:#92CCA6;color:black\" title=\"Was positive definiteness enforced by Minuit?\"> Not forced </td>\n",
       "    </tr>\n",
       "</table><table>\n",
       "    <tr>\n",
       "        <td></td>\n",
       "        <th title=\"Variable name\"> Name </th>\n",
       "        <th title=\"Value of parameter\"> Value </th>\n",
       "        <th title=\"Hesse error\"> Hesse Error </th>\n",
       "        <th title=\"Minos lower error\"> Minos Error- </th>\n",
       "        <th title=\"Minos upper error\"> Minos Error+ </th>\n",
       "        <th title=\"Lower limit of the parameter\"> Limit- </th>\n",
       "        <th title=\"Upper limit of the parameter\"> Limit+ </th>\n",
       "        <th title=\"Is the parameter fixed in the fit\"> Fixed </th>\n",
       "    </tr>\n",
       "    <tr>\n",
       "        <th> 0 </th>\n",
       "        <td> a </td>\n",
       "        <td> 72.9 </td>\n",
       "        <td> 3.4 </td>\n",
       "        <td>  </td>\n",
       "        <td>  </td>\n",
       "        <td>  </td>\n",
       "        <td>  </td>\n",
       "        <td>  </td>\n",
       "    </tr>\n",
       "    <tr>\n",
       "        <th> 1 </th>\n",
       "        <td> b </td>\n",
       "        <td> 0.381 </td>\n",
       "        <td> 0.006 </td>\n",
       "        <td>  </td>\n",
       "        <td>  </td>\n",
       "        <td>  </td>\n",
       "        <td>  </td>\n",
       "        <td>  </td>\n",
       "    </tr>\n",
       "</table><table>\n",
       "    <tr>\n",
       "        <td></td>\n",
       "        <th> a </th>\n",
       "        <th> b </th>\n",
       "    </tr>\n",
       "    <tr>\n",
       "        <th> a </th>\n",
       "        <td> 11.2 </td>\n",
       "        <td style=\"background-color:rgb(250,120,120);color:black\"> 0.0164 <strong>(0.864)</strong> </td>\n",
       "    </tr>\n",
       "    <tr>\n",
       "        <th> b </th>\n",
       "        <td style=\"background-color:rgb(250,120,120);color:black\"> 0.0164 <strong>(0.864)</strong> </td>\n",
       "        <td> 3.23e-05 </td>\n",
       "    </tr>\n",
       "</table>"
      ],
      "text/plain": [
       "┌─────────────────────────────────────────────────────────────────────────┐\n",
       "│                                Migrad                                   │\n",
       "├──────────────────────────────────┬──────────────────────────────────────┤\n",
       "│ FCN = 86.6                       │              Nfcn = 35               │\n",
       "│ EDM = 2.42e-07 (Goal: 0.0002)    │                                      │\n",
       "├──────────────────────────────────┼──────────────────────────────────────┤\n",
       "│          Valid Minimum           │        No Parameters at limit        │\n",
       "├──────────────────────────────────┼──────────────────────────────────────┤\n",
       "│ Below EDM threshold (goal x 10)  │           Below call limit           │\n",
       "├───────────────┬──────────────────┼───────────┬─────────────┬────────────┤\n",
       "│  Covariance   │     Hesse ok     │ Accurate  │  Pos. def.  │ Not forced │\n",
       "└───────────────┴──────────────────┴───────────┴─────────────┴────────────┘\n",
       "┌───┬──────┬───────────┬───────────┬────────────┬────────────┬─────────┬─────────┬───────┐\n",
       "│   │ Name │   Value   │ Hesse Err │ Minos Err- │ Minos Err+ │ Limit-  │ Limit+  │ Fixed │\n",
       "├───┼──────┼───────────┼───────────┼────────────┼────────────┼─────────┼─────────┼───────┤\n",
       "│ 0 │ a    │   72.9    │    3.4    │            │            │         │         │       │\n",
       "│ 1 │ b    │   0.381   │   0.006   │            │            │         │         │       │\n",
       "└───┴──────┴───────────┴───────────┴────────────┴────────────┴─────────┴─────────┴───────┘\n",
       "┌───┬───────────────────┐\n",
       "│   │        a        b │\n",
       "├───┼───────────────────┤\n",
       "│ a │     11.2   0.0164 │\n",
       "│ b │   0.0164 3.23e-05 │\n",
       "└───┴───────────────────┘"
      ]
     },
     "metadata": {},
     "output_type": "display_data"
    },
    {
     "name": "stdout",
     "output_type": "stream",
     "text": [
      "Chi2 value: 86.6   Ndof = 42    Prob(Chi2,Ndof) = 0.0000622653\n"
     ]
    },
    {
     "data": {
      "image/png": "[encoded data removed]",
      "text/plain": [
       "<Figure size 432x288 with 1 Axes>"
      ]
     },
     "metadata": {
      "needs_background": "light"
     },
     "output_type": "display_data"
    },
    {
     "name": "stdout",
     "output_type": "stream",
     "text": [
      "Data points that can be discarded according to Chauvenet's criterion:\n",
      " [ 4300.  6000.  8500. 10300. 20000. 30000. 40279. 72034.]\n",
      "Probabilities of those data points:\n",
      " [5.73429081e-03 2.65915055e-05 3.34487092e-10 3.57145404e-10\n",
      " 6.18034722e-13 4.15453332e-06 3.22398885e-05 1.05763807e-05]\n"
     ]
    },
    {
     "data": {
      "text/html": [
       "<table>\n",
       "    <tr>\n",
       "        <th colspan=\"5\" style=\"text-align:center\" title=\"Minimizer\"> Migrad </th>\n",
       "    </tr>\n",
       "    <tr>\n",
       "        <td colspan=\"2\" style=\"text-align:left\" title=\"Minimum value of function\"> FCN = 18.32 </td>\n",
       "        <td colspan=\"3\" style=\"text-align:center\" title=\"No. of function evaluations in last call and total number\"> Nfcn = 36 </td>\n",
       "    </tr>\n",
       "    <tr>\n",
       "        <td colspan=\"2\" style=\"text-align:left\" title=\"Estimated distance to minimum and goal\"> EDM = 5.23e-05 (Goal: 0.0002) </td>\n",
       "        <td colspan=\"3\" style=\"text-align:center\" title=\"No. of gradient evaluations in last call and total number\">  </td>\n",
       "    </tr>\n",
       "    <tr>\n",
       "        <td colspan=\"2\" style=\"text-align:center;background-color:#92CCA6;color:black\"> Valid Minimum </td>\n",
       "        <td colspan=\"3\" style=\"text-align:center;background-color:#92CCA6;color:black\"> No Parameters at limit </td>\n",
       "    </tr>\n",
       "    <tr>\n",
       "        <td colspan=\"2\" style=\"text-align:center;background-color:#92CCA6;color:black\"> Below EDM threshold (goal x 10) </td>\n",
       "        <td colspan=\"3\" style=\"text-align:center;background-color:#92CCA6;color:black\"> Below call limit </td>\n",
       "    </tr>\n",
       "    <tr>\n",
       "        <td style=\"text-align:center;background-color:#92CCA6;color:black\"> Covariance </td>\n",
       "        <td style=\"text-align:center;background-color:#92CCA6;color:black\"> Hesse ok </td>\n",
       "        <td style=\"text-align:center;background-color:#92CCA6;color:black\" title=\"Is covariance matrix accurate?\"> Accurate </td>\n",
       "        <td style=\"text-align:center;background-color:#92CCA6;color:black\" title=\"Is covariance matrix positive definite?\"> Pos. def. </td>\n",
       "        <td style=\"text-align:center;background-color:#92CCA6;color:black\" title=\"Was positive definiteness enforced by Minuit?\"> Not forced </td>\n",
       "    </tr>\n",
       "</table><table>\n",
       "    <tr>\n",
       "        <td></td>\n",
       "        <th title=\"Variable name\"> Name </th>\n",
       "        <th title=\"Value of parameter\"> Value </th>\n",
       "        <th title=\"Hesse error\"> Hesse Error </th>\n",
       "        <th title=\"Minos lower error\"> Minos Error- </th>\n",
       "        <th title=\"Minos upper error\"> Minos Error+ </th>\n",
       "        <th title=\"Lower limit of the parameter\"> Limit- </th>\n",
       "        <th title=\"Upper limit of the parameter\"> Limit+ </th>\n",
       "        <th title=\"Is the parameter fixed in the fit\"> Fixed </th>\n",
       "    </tr>\n",
       "    <tr>\n",
       "        <th> 0 </th>\n",
       "        <td> a </td>\n",
       "        <td> 73.6 </td>\n",
       "        <td> 3.5 </td>\n",
       "        <td>  </td>\n",
       "        <td>  </td>\n",
       "        <td>  </td>\n",
       "        <td>  </td>\n",
       "        <td>  </td>\n",
       "    </tr>\n",
       "    <tr>\n",
       "        <th> 1 </th>\n",
       "        <td> b </td>\n",
       "        <td> 0.390 </td>\n",
       "        <td> 0.006 </td>\n",
       "        <td>  </td>\n",
       "        <td>  </td>\n",
       "        <td>  </td>\n",
       "        <td>  </td>\n",
       "        <td>  </td>\n",
       "    </tr>\n",
       "</table><table>\n",
       "    <tr>\n",
       "        <td></td>\n",
       "        <th> a </th>\n",
       "        <th> b </th>\n",
       "    </tr>\n",
       "    <tr>\n",
       "        <th> a </th>\n",
       "        <td> 12.2 </td>\n",
       "        <td style=\"background-color:rgb(250,123,123);color:black\"> 0.0182 <strong>(0.848)</strong> </td>\n",
       "    </tr>\n",
       "    <tr>\n",
       "        <th> b </th>\n",
       "        <td style=\"background-color:rgb(250,123,123);color:black\"> 0.0182 <strong>(0.848)</strong> </td>\n",
       "        <td> 3.81e-05 </td>\n",
       "    </tr>\n",
       "</table>"
      ],
      "text/plain": [
       "┌─────────────────────────────────────────────────────────────────────────┐\n",
       "│                                Migrad                                   │\n",
       "├──────────────────────────────────┬──────────────────────────────────────┤\n",
       "│ FCN = 18.32                      │              Nfcn = 36               │\n",
       "│ EDM = 5.23e-05 (Goal: 0.0002)    │                                      │\n",
       "├──────────────────────────────────┼──────────────────────────────────────┤\n",
       "│          Valid Minimum           │        No Parameters at limit        │\n",
       "├──────────────────────────────────┼──────────────────────────────────────┤\n",
       "│ Below EDM threshold (goal x 10)  │           Below call limit           │\n",
       "├───────────────┬──────────────────┼───────────┬─────────────┬────────────┤\n",
       "│  Covariance   │     Hesse ok     │ Accurate  │  Pos. def.  │ Not forced │\n",
       "└───────────────┴──────────────────┴───────────┴─────────────┴────────────┘\n",
       "┌───┬──────┬───────────┬───────────┬────────────┬────────────┬─────────┬─────────┬───────┐\n",
       "│   │ Name │   Value   │ Hesse Err │ Minos Err- │ Minos Err+ │ Limit-  │ Limit+  │ Fixed │\n",
       "├───┼──────┼───────────┼───────────┼────────────┼────────────┼─────────┼─────────┼───────┤\n",
       "│ 0 │ a    │   73.6    │    3.5    │            │            │         │         │       │\n",
       "│ 1 │ b    │   0.390   │   0.006   │            │            │         │         │       │\n",
       "└───┴──────┴───────────┴───────────┴────────────┴────────────┴─────────┴─────────┴───────┘\n",
       "┌───┬───────────────────┐\n",
       "│   │        a        b │\n",
       "├───┼───────────────────┤\n",
       "│ a │     12.2   0.0182 │\n",
       "│ b │   0.0182 3.81e-05 │\n",
       "└───┴───────────────────┘"
      ]
     },
     "metadata": {},
     "output_type": "display_data"
    },
    {
     "name": "stdout",
     "output_type": "stream",
     "text": [
      "Chi2 value: 18.3   Ndof = 34    Prob(Chi2,Ndof) = 0.9870459177\n"
     ]
    },
    {
     "data": {
      "image/png": "[encoded data removed]",
      "text/plain": [
       "<Figure size 432x288 with 1 Axes>"
      ]
     },
     "metadata": {
      "needs_background": "light"
     },
     "output_type": "display_data"
    },
    {
     "name": "stdout",
     "output_type": "stream",
     "text": [
      "Data points that can be discarded according to Chauvenet's criterion:\n",
      " []\n",
      "Probabilities of those data points:\n",
      " []\n"
     ]
    }
   ],
   "source": [
    "verbose = True\n",
    "\n",
    "x_data_reduced = np.copy(capacity)\n",
    "y_data_reduced = np.copy(price)\n",
    "sigma_y_reduced = 0.15*y_data_reduced\n",
    "\n",
    "previous_x_data, previous_y_data, previous_y_sigma = None, None, None\n",
    "\n",
    "while not np.array_equal(x_data_reduced, previous_x_data):\n",
    "    previous_x_data = np.copy(x_data_reduced)\n",
    "    previous_y_data = np.copy(y_data_reduced)\n",
    "    previous_sigma_y = np.copy(sigma_y_reduced)\n",
    "    \n",
    "    # Do a fit, calculate p-values, create mask according to chauevenet criterion\n",
    "    minuit_chi2, Ndof_value_pl, p_value_pl = do_a_chi2_fit(previous_x_data, previous_y_data, previous_sigma_y, power_law, [73,0.38])\n",
    "    \n",
    "    x_axis = np.linspace(np.min(previous_x_data), np.max(previous_x_data), 1000)\n",
    "    y_axis = power_law(x_axis,*minuit_chi2.values)\n",
    "\n",
    "    fig2, ax2 = plt.subplots()\n",
    "    ax2.errorbar(previous_x_data, previous_y_data, yerr=previous_sigma_y, label='Reduced data')\n",
    "    ax2.plot(x_axis, y_axis,label=f'Chi2 fit to power law\\np(Chi2={minuit_chi2.fval:.1f},Ndof={Ndof_value:d}) = {p_value_pl:.5f}')\n",
    "\n",
    "    ax2.set_xlabel(r'Cumulative solar power capacity ($MW$)')\n",
    "    ax2.set_ylabel(r'Price ($\\$/W$)')\n",
    "\n",
    "    ax2.set_xscale('log')\n",
    "    ax2.set_yscale('log')\n",
    "\n",
    "    ax2.legend()\n",
    "\n",
    "    plt.show()\n",
    "    \n",
    "    # Do the chauvenet criterion thing\n",
    "    theo_val = power_law(previous_x_data,*minuit_chi2.values)\n",
    "    sigma_theo_val = 0.15*theo_val\n",
    "    p_values = stats.norm.sf(previous_y_data,loc=theo_val,scale=sigma_theo_val)\n",
    "    \n",
    "    chauvenet_mask = p_values*len(previous_x_data) > 0.5 # This is the chauvenet criterion\n",
    "    \n",
    "    x_data_reduced = previous_x_data[chauvenet_mask]\n",
    "    y_data_reduced = previous_y_data[chauvenet_mask]\n",
    "    sigma_y_reduced = previous_sigma_y[chauvenet_mask]\n",
    "\n",
    "    if verbose:\n",
    "        print('Data points that can be discarded according to Chauvenet\\'s criterion:\\n',previous_x_data[~chauvenet_mask]) # ~ inverts the mask\n",
    "        print('Probabilities of those data points:\\n',p_values[~chauvenet_mask])\n",
    "        #print(year[~chauvenet_mask])"
   ]
  },
  {
   "cell_type": "code",
   "execution_count": 10,
   "metadata": {},
   "outputs": [
    {
     "data": {
      "image/png": "[encoded data removed]",
      "text/plain": [
       "<Figure size 432x288 with 1 Axes>"
      ]
     },
     "metadata": {
      "needs_background": "light"
     },
     "output_type": "display_data"
    }
   ],
   "source": [
    "# Making a fancy plot to hand in\n",
    "reduce_mask = np.in1d(capacity, x_data_reduced)\n",
    "\n",
    "capacity_reduced = capacity[reduce_mask]\n",
    "price_reduced = price[reduce_mask]\n",
    "sigma_price_reduced = sigma_price[reduce_mask]\n",
    "year_reduced = year[reduce_mask]\n",
    "\n",
    "x_axis = np.linspace(np.min(capacity_reduced), np.max(capacity_reduced), 1000)\n",
    "y_axis = power_law(x_axis,*minuit_chi2.values)\n",
    "\n",
    "fig2, ax2 = plt.subplots()\n",
    "ax2.errorbar(capacity_reduced, price_reduced, yerr=sigma_price_reduced, label='Fitted data',color='red')\n",
    "ax2.errorbar(capacity[~reduce_mask], price[~reduce_mask], yerr=sigma_price[~reduce_mask], label='Removed data',color='blue')\n",
    "\n",
    "label_string = f'Chi2 fit to power law\\n'+ \\\n",
    "            f'p(Chi2={minuit_chi2.fval:.1f},Ndof={Ndof_value_pl:d}) = {p_value_pl:.3f}\\n'+ \\\n",
    "            f'a={minuit_chi2.values[0]:.3}, b={minuit_chi2.values[1]:.3}'\n",
    "\n",
    "ax2.plot(x_axis, y_axis,label=label_string,color='black')\n",
    "\n",
    "ax2.set_xlabel(r'Cumulative solar power capacity ($MW$)')\n",
    "ax2.set_ylabel(r'Price ($\\$/W$)')\n",
    "\n",
    "ax2.set_xscale('log')\n",
    "ax2.set_yscale('log')\n",
    "\n",
    "ax2.legend()\n",
    "\n",
    "plt.savefig('Problem_5.1_power_law.png',dpi=600)\n"
   ]
  },
  {
   "cell_type": "code",
   "execution_count": 34,
   "metadata": {
    "scrolled": false
   },
   "outputs": [
    {
     "data": {
      "text/html": [
       "<table>\n",
       "    <tr>\n",
       "        <th colspan=\"5\" style=\"text-align:center\" title=\"Minimizer\"> Migrad </th>\n",
       "    </tr>\n",
       "    <tr>\n",
       "        <td colspan=\"2\" style=\"text-align:left\" title=\"Minimum value of function\"> FCN = 5.103e+04 </td>\n",
       "        <td colspan=\"3\" style=\"text-align:center\" title=\"No. of function evaluations in last call and total number\"> Nfcn = 121 </td>\n",
       "    </tr>\n",
       "    <tr>\n",
       "        <td colspan=\"2\" style=\"text-align:left\" title=\"Estimated distance to minimum and goal\"> EDM = 6.96e-05 (Goal: 0.0002) </td>\n",
       "        <td colspan=\"3\" style=\"text-align:center\" title=\"No. of gradient evaluations in last call and total number\">  </td>\n",
       "    </tr>\n",
       "    <tr>\n",
       "        <td colspan=\"2\" style=\"text-align:center;background-color:#92CCA6;color:black\"> Valid Minimum </td>\n",
       "        <td colspan=\"3\" style=\"text-align:center;background-color:#92CCA6;color:black\"> No Parameters at limit </td>\n",
       "    </tr>\n",
       "    <tr>\n",
       "        <td colspan=\"2\" style=\"text-align:center;background-color:#92CCA6;color:black\"> Below EDM threshold (goal x 10) </td>\n",
       "        <td colspan=\"3\" style=\"text-align:center;background-color:#92CCA6;color:black\"> Below call limit </td>\n",
       "    </tr>\n",
       "    <tr>\n",
       "        <td style=\"text-align:center;background-color:#92CCA6;color:black\"> Covariance </td>\n",
       "        <td style=\"text-align:center;background-color:#92CCA6;color:black\"> Hesse ok </td>\n",
       "        <td style=\"text-align:center;background-color:#92CCA6;color:black\" title=\"Is covariance matrix accurate?\"> Accurate </td>\n",
       "        <td style=\"text-align:center;background-color:#92CCA6;color:black\" title=\"Is covariance matrix positive definite?\"> Pos. def. </td>\n",
       "        <td style=\"text-align:center;background-color:#92CCA6;color:black\" title=\"Was positive definiteness enforced by Minuit?\"> Not forced </td>\n",
       "    </tr>\n",
       "</table><table>\n",
       "    <tr>\n",
       "        <td></td>\n",
       "        <th title=\"Variable name\"> Name </th>\n",
       "        <th title=\"Value of parameter\"> Value </th>\n",
       "        <th title=\"Hesse error\"> Hesse Error </th>\n",
       "        <th title=\"Minos lower error\"> Minos Error- </th>\n",
       "        <th title=\"Minos upper error\"> Minos Error+ </th>\n",
       "        <th title=\"Lower limit of the parameter\"> Limit- </th>\n",
       "        <th title=\"Upper limit of the parameter\"> Limit+ </th>\n",
       "        <th title=\"Is the parameter fixed in the fit\"> Fixed </th>\n",
       "    </tr>\n",
       "    <tr>\n",
       "        <th> 0 </th>\n",
       "        <td> a </td>\n",
       "        <td> 42.13e-3 </td>\n",
       "        <td> 0.22e-3 </td>\n",
       "        <td>  </td>\n",
       "        <td>  </td>\n",
       "        <td>  </td>\n",
       "        <td>  </td>\n",
       "        <td>  </td>\n",
       "    </tr>\n",
       "    <tr>\n",
       "        <th> 1 </th>\n",
       "        <td> b </td>\n",
       "        <td> 1.964070e3 </td>\n",
       "        <td> 0.000011e3 </td>\n",
       "        <td>  </td>\n",
       "        <td>  </td>\n",
       "        <td>  </td>\n",
       "        <td>  </td>\n",
       "        <td>  </td>\n",
       "    </tr>\n",
       "    <tr>\n",
       "        <th> 2 </th>\n",
       "        <td> c </td>\n",
       "        <td> 301.46e-3 </td>\n",
       "        <td> 0.16e-3 </td>\n",
       "        <td>  </td>\n",
       "        <td>  </td>\n",
       "        <td>  </td>\n",
       "        <td>  </td>\n",
       "        <td>  </td>\n",
       "    </tr>\n",
       "    <tr>\n",
       "        <th> 3 </th>\n",
       "        <td> d </td>\n",
       "        <td> -0.4 </td>\n",
       "        <td> 0.4 </td>\n",
       "        <td>  </td>\n",
       "        <td>  </td>\n",
       "        <td>  </td>\n",
       "        <td>  </td>\n",
       "        <td>  </td>\n",
       "    </tr>\n",
       "</table><table>\n",
       "    <tr>\n",
       "        <td></td>\n",
       "        <th> a </th>\n",
       "        <th> b </th>\n",
       "        <th> c </th>\n",
       "        <th> d </th>\n",
       "    </tr>\n",
       "    <tr>\n",
       "        <th> a </th>\n",
       "        <td> 4.79e-08 </td>\n",
       "        <td style=\"background-color:rgb(122,122,250);color:black\"> -2.44e-06 <strong>(-0.984)</strong> </td>\n",
       "        <td style=\"background-color:rgb(121,121,250);color:black\"> -3.57e-08 <strong>(-0.994)</strong> </td>\n",
       "        <td style=\"background-color:rgb(245,245,250);color:black\"> -3.74e-06 <strong>(-0.041)</strong> </td>\n",
       "    </tr>\n",
       "    <tr>\n",
       "        <th> b </th>\n",
       "        <td style=\"background-color:rgb(122,122,250);color:black\"> -2.44e-06 <strong>(-0.984)</strong> </td>\n",
       "        <td> 0.000128 </td>\n",
       "        <td style=\"background-color:rgb(250,101,101);color:black\"> 1.84e-06 <strong>(0.992)</strong> </td>\n",
       "        <td style=\"background-color:rgb(250,244,244);color:black\"> 0.000193 <strong>(0.041)</strong> </td>\n",
       "    </tr>\n",
       "    <tr>\n",
       "        <th> c </th>\n",
       "        <td style=\"background-color:rgb(121,121,250);color:black\"> -3.57e-08 <strong>(-0.994)</strong> </td>\n",
       "        <td style=\"background-color:rgb(250,101,101);color:black\"> 1.84e-06 <strong>(0.992)</strong> </td>\n",
       "        <td> 2.68e-08 </td>\n",
       "        <td style=\"background-color:rgb(250,244,244);color:black\"> 2.76e-06 <strong>(0.040)</strong> </td>\n",
       "    </tr>\n",
       "    <tr>\n",
       "        <th> d </th>\n",
       "        <td style=\"background-color:rgb(245,245,250);color:black\"> -3.74e-06 <strong>(-0.041)</strong> </td>\n",
       "        <td style=\"background-color:rgb(250,244,244);color:black\"> 0.000193 <strong>(0.041)</strong> </td>\n",
       "        <td style=\"background-color:rgb(250,244,244);color:black\"> 2.76e-06 <strong>(0.040)</strong> </td>\n",
       "        <td> 0.174 </td>\n",
       "    </tr>\n",
       "</table>"
      ],
      "text/plain": [
       "┌─────────────────────────────────────────────────────────────────────────┐\n",
       "│                                Migrad                                   │\n",
       "├──────────────────────────────────┬──────────────────────────────────────┤\n",
       "│ FCN = 5.103e+04                  │              Nfcn = 121              │\n",
       "│ EDM = 6.96e-05 (Goal: 0.0002)    │                                      │\n",
       "├──────────────────────────────────┼──────────────────────────────────────┤\n",
       "│          Valid Minimum           │        No Parameters at limit        │\n",
       "├──────────────────────────────────┼──────────────────────────────────────┤\n",
       "│ Below EDM threshold (goal x 10)  │           Below call limit           │\n",
       "├───────────────┬──────────────────┼───────────┬─────────────┬────────────┤\n",
       "│  Covariance   │     Hesse ok     │ Accurate  │  Pos. def.  │ Not forced │\n",
       "└───────────────┴──────────────────┴───────────┴─────────────┴────────────┘\n",
       "┌───┬──────┬───────────┬───────────┬────────────┬────────────┬─────────┬─────────┬───────┐\n",
       "│   │ Name │   Value   │ Hesse Err │ Minos Err- │ Minos Err+ │ Limit-  │ Limit+  │ Fixed │\n",
       "├───┼──────┼───────────┼───────────┼────────────┼────────────┼─────────┼─────────┼───────┤\n",
       "│ 0 │ a    │ 42.13e-3  │  0.22e-3  │            │            │         │         │       │\n",
       "│ 1 │ b    │1.964070e3 │0.000011e3 │            │            │         │         │       │\n",
       "│ 2 │ c    │ 301.46e-3 │  0.16e-3  │            │            │         │         │       │\n",
       "│ 3 │ d    │   -0.4    │    0.4    │            │            │         │         │       │\n",
       "└───┴──────┴───────────┴───────────┴────────────┴────────────┴─────────┴─────────┴───────┘\n",
       "┌───┬─────────────────────────────────────────┐\n",
       "│   │         a         b         c         d │\n",
       "├───┼─────────────────────────────────────────┤\n",
       "│ a │  4.79e-08 -2.44e-06 -3.57e-08 -3.74e-06 │\n",
       "│ b │ -2.44e-06  0.000128  1.84e-06  0.000193 │\n",
       "│ c │ -3.57e-08  1.84e-06  2.68e-08  2.76e-06 │\n",
       "│ d │ -3.74e-06  0.000193  2.76e-06     0.174 │\n",
       "└───┴─────────────────────────────────────────┘"
      ]
     },
     "metadata": {},
     "output_type": "display_data"
    },
    {
     "name": "stdout",
     "output_type": "stream",
     "text": [
      "Chi2 value: 51031.3   Ndof = 40    Prob(Chi2,Ndof) = 0.0000000000\n"
     ]
    },
    {
     "data": {
      "image/png": "[encoded data removed]",
      "text/plain": [
       "<Figure size 432x288 with 1 Axes>"
      ]
     },
     "metadata": {
      "needs_background": "light"
     },
     "output_type": "display_data"
    }
   ],
   "source": [
    "# The data looks exponential to me\n",
    "def exponential(x, a,b,c,d):\n",
    "    return a*np.exp((x-b)*c) + d\n",
    "\n",
    "def stupid_fit_function(x, a,b,c,d,e,f,g):\n",
    "    return a * np.exp((x-b)*c) * np.sin((x-f)*(2*np.pi)/g) + d\n",
    "\n",
    "# Do a chi2 fit\n",
    "chi2_exp = Chi2Regression(exponential, year, capacity, np.sqrt(capacity)) # No uncertainty known on capacity -> Pearson chi2\n",
    "#chi2_exp = Chi2Regression(exponential, year_reduced, capacity_reduced, np.sqrt(capacity_reduced))\n",
    "#chi2_exp = Chi2Regression(stupid_fit_function, year, capacity, 0.2*capacity)#np.sqrt(capacity))\n",
    "chi2_exp.errordef = 1\n",
    "minuit_chi2_exp = Minuit(chi2_exp, a=0.05, b=2000, c=0.3, d=1)\n",
    "#minuit_chi2_exp = Minuit(chi2_exp, a=0.05, b=2000, c=0.3, d=1, e=100, f=0, g=25) #   \n",
    "display(minuit_chi2_exp.migrad())          # Perform the actual fit\n",
    "\n",
    "\n",
    "# Get number of degrees-of-freedom (Ndof):\n",
    "Ndof_value = len(price) - minuit_chi2_exp.nfit\n",
    "#Ndof_value = len(price_reduced) - minuit_chi2_exp.nfit\n",
    "\n",
    "chi2_exp_value = minuit_chi2_exp.fval\n",
    "p_value = stats.chi2.sf(chi2_exp_value, Ndof_value) # The chi2 probability given N_DOF degrees of freedom\n",
    "print(f\"Chi2 value: {chi2_exp_value:.1f}   Ndof = {Ndof_value:.0f}    Prob(Chi2,Ndof) = {p_value:5.10f}\")\n",
    "\n",
    "\n",
    "x_axis = np.linspace(np.min(year),np.max(year),1000)\n",
    "#x_axis = np.linspace(np.min(year_reduced),np.max(year_reduced),1000)\n",
    "fig3, ax3 = plt.subplots()\n",
    "ax3.errorbar(year, capacity, yerr=np.sqrt(capacity), label='Data',color='red')\n",
    "#ax3.errorbar(year, capacity, yerr=0.2*capacity, label='Data',color='red')\n",
    "#ax3.scatter(year_reduced, capacity_reduced, label='Data',color='red')\n",
    "ax3.plot(x_axis,exponential(x_axis,*minuit_chi2_exp.values),label='Fit',color='black')\n",
    "#ax3.plot(x_axis,stupid_fit_function(x_axis,*minuit_chi2_exp.values),label='Fit',color='black')\n",
    "\n",
    "ax3.set_xlabel(r'Year')\n",
    "ax3.set_ylabel(r'Cumulative solar power capacity ($MW$)')\n",
    "\n",
    "ax3.set_yscale('log')\n",
    "\n",
    "ax3.legend()\n",
    "plt.show()"
   ]
  },
  {
   "cell_type": "code",
   "execution_count": 40,
   "metadata": {},
   "outputs": [
    {
     "data": {
      "image/png": "[encoded data removed]",
      "text/plain": [
       "<Figure size 432x288 with 1 Axes>"
      ]
     },
     "metadata": {
      "needs_background": "light"
     },
     "output_type": "display_data"
    }
   ],
   "source": [
    "# Residuals\n",
    "plt.scatter(year, capacity-exponential(year,*minuit_chi2_exp.values))\n",
    "plt.yscale('symlog')"
   ]
  }
 ],
 "metadata": {
  "executable": "/usr/bin/env python",
  "kernelspec": {
   "display_name": "Python 3",
   "language": "python",
   "name": "python3"
  },
  "language_info": {
   "codemirror_mode": {
    "name": "ipython",
    "version": 3
   },
   "file_extension": ".py",
   "mimetype": "text/x-python",
   "name": "python",
   "nbconvert_exporter": "python",
   "pygments_lexer": "ipython3",
   "version": "3.8.8"
  },
  "main_language": "python"
 },
 "nbformat": 4,
 "nbformat_minor": 2
}

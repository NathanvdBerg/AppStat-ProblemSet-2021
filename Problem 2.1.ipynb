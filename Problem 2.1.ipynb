{
 "cells": [
  {
   "cell_type": "code",
   "execution_count": 1,
   "id": "15e3af8a",
   "metadata": {},
   "outputs": [],
   "source": [
    "def calc_y(x):\n",
    "    return (1+x**2)**-1\n",
    "\n",
    "def calc_z(x):\n",
    "    return (1-x)**-2\n",
    "\n",
    "def calc_sigma_y(x, sigma_x):\n",
    "    return -(2*x)/(1+x**2)**2 * sigma_x\n",
    "\n",
    "def calc_sigma_z(x, sigma_x):\n",
    "    return 2/(1-x)**3 * sigma_x"
   ]
  },
  {
   "cell_type": "code",
   "execution_count": 2,
   "id": "edd7fc72",
   "metadata": {},
   "outputs": [],
   "source": [
    "def y_result(x, sigma_x):\n",
    "    y = calc_y(x)\n",
    "    sigma_y = calc_sigma_y(x, sigma_x)\n",
    "    print(f'y = {y:.3f} +- {sigma_y:.3f}')\n",
    "\n",
    "def z_result(x, sigma_x):\n",
    "    z = calc_z(x)\n",
    "    sigma_z = calc_sigma_z(x, sigma_x)\n",
    "    print(f'z = {z:.3f} +- {sigma_z:.3f}')"
   ]
  },
  {
   "cell_type": "code",
   "execution_count": 3,
   "id": "82779776",
   "metadata": {},
   "outputs": [
    {
     "name": "stdout",
     "output_type": "stream",
     "text": [
      "y = 0.207 +- -0.005\n",
      "z = 1.085 +- -0.068\n"
     ]
    }
   ],
   "source": [
    "x_a = 1.96\n",
    "sigma_x_a = 0.03\n",
    "\n",
    "y_result(x_a, sigma_x_a)\n",
    "z_result(x_a, sigma_x_a)"
   ]
  },
  {
   "cell_type": "code",
   "execution_count": 4,
   "id": "1acb40b9",
   "metadata": {},
   "outputs": [
    {
     "name": "stdout",
     "output_type": "stream",
     "text": [
      "y = 0.520 +- -0.016\n",
      "z = 625.000 +- 937.500\n"
     ]
    }
   ],
   "source": [
    "x_b = 0.96\n",
    "sigma_x_b = 0.03\n",
    "\n",
    "y_result(x_b, sigma_x_b)\n",
    "z_result(x_b, sigma_x_b)"
   ]
  }
 ],
 "metadata": {
  "kernelspec": {
   "display_name": "Python 3",
   "language": "python",
   "name": "python3"
  },
  "language_info": {
   "codemirror_mode": {
    "name": "ipython",
    "version": 3
   },
   "file_extension": ".py",
   "mimetype": "text/x-python",
   "name": "python",
   "nbconvert_exporter": "python",
   "pygments_lexer": "ipython3",
   "version": "3.8.8"
  }
 },
 "nbformat": 4,
 "nbformat_minor": 5
}

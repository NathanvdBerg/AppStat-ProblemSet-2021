{
 "cells": [
  {
   "cell_type": "code",
   "execution_count": 1,
   "id": "26134cbc",
   "metadata": {},
   "outputs": [],
   "source": [
    "N_CPR = 103261\n",
    "N_CPR_pos = 2646\n",
    "N_anti = 26162\n",
    "N_anti_pos = 491"
   ]
  },
  {
   "cell_type": "code",
   "execution_count": 2,
   "id": "cf0ec80a",
   "metadata": {},
   "outputs": [
    {
     "name": "stdout",
     "output_type": "stream",
     "text": [
      "0.025624388684982714\n",
      "0.01876767831205565\n",
      "0.006856710372927063\n"
     ]
    }
   ],
   "source": [
    "frac_pos_CPR = N_CPR_pos/N_CPR\n",
    "frac_pos_anti = N_anti_pos/N_anti\n",
    "\n",
    "print(frac_pos_CPR)\n",
    "print(frac_pos_anti)\n",
    "\n",
    "print(frac_pos_CPR - frac_pos_anti)"
   ]
  },
  {
   "cell_type": "code",
   "execution_count": 3,
   "id": "aa4c4a9d",
   "metadata": {},
   "outputs": [],
   "source": [
    "from scipy import stats"
   ]
  },
  {
   "cell_type": "code",
   "execution_count": 4,
   "id": "543b8c95",
   "metadata": {},
   "outputs": [],
   "source": [
    "#p_value = ???\n",
    "#print(p_value)"
   ]
  }
 ],
 "metadata": {
  "kernelspec": {
   "display_name": "Python 3",
   "language": "python",
   "name": "python3"
  },
  "language_info": {
   "codemirror_mode": {
    "name": "ipython",
    "version": 3
   },
   "file_extension": ".py",
   "mimetype": "text/x-python",
   "name": "python",
   "nbconvert_exporter": "python",
   "pygments_lexer": "ipython3",
   "version": "3.8.8"
  }
 },
 "nbformat": 4,
 "nbformat_minor": 5
}

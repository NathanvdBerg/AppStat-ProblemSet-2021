{
 "cells": [
  {
   "cell_type": "markdown",
   "metadata": {},
   "source": [
    "# Problem 5.2: Covid-19 tests - data reader\n",
    "\n",
    "The following is a small program to read the data file \"data_Covid19tests.txt\", which contains three column: Date (in January 2021), Number of (PCR) tests on that day, and number of positive tests that day.\n",
    "\n",
    "### Author & Date: \n",
    "- Troels C. Petersen (Niels Bohr Institute)\n",
    "- 07-11-2021\n",
    "\n",
    "***"
   ]
  },
  {
   "cell_type": "code",
   "execution_count": 1,
   "metadata": {},
   "outputs": [],
   "source": [
    "# Read the data and print it to check it:\n",
    "import numpy as np\n",
    "import matplotlib.pyplot as plt\n",
    "\n",
    "from ExternalFunctions import Chi2Regression\n",
    "\n",
    "from scipy import stats\n",
    "from iminuit import Minuit"
   ]
  },
  {
   "cell_type": "code",
   "execution_count": 2,
   "metadata": {
    "scrolled": false
   },
   "outputs": [
    {
     "name": "stdout",
     "output_type": "stream",
     "text": [
      "Number of entries:  15\n",
      "   4  103270   2464\n",
      "   5  102145   1920\n",
      "   6   93981   1647\n",
      "   7   83748   1573\n",
      "   8   73944   1428\n",
      "   9   51387   1192\n",
      "  10   47092    989\n",
      "  11   79306   1340\n",
      "  12   83126   1238\n",
      "  13   76080   1112\n",
      "  14  103694    998\n",
      "  15   97416    844\n",
      "  16   75592    719\n",
      "  17   73613    670\n",
      "  18  101957    882\n"
     ]
    }
   ],
   "source": [
    "date, Ntests, Npositives = np.loadtxt(\"data_Covid19tests.txt\", skiprows=2, unpack=True)\n",
    "\n",
    "print(\"Number of entries: \", len(date))\n",
    "for i in range(len(date)) : \n",
    "    print(f\"  {date[i]:2.0f}  {Ntests[i]:6.0f}  {Npositives[i]:5.0f}\")"
   ]
  },
  {
   "cell_type": "code",
   "execution_count": 3,
   "metadata": {},
   "outputs": [],
   "source": [
    "def calculate_weighted_mean(data, uncertainties):\n",
    "    return np.sum(data/uncertainties**2)/np.sum(1./uncertainties**2)\n",
    "\n",
    "def calculate_uncertainty(uncertainties):\n",
    "    return np.sqrt(1./np.sum(1./uncertainties**2))"
   ]
  },
  {
   "cell_type": "code",
   "execution_count": 4,
   "metadata": {},
   "outputs": [
    {
     "name": "stdout",
     "output_type": "stream",
     "text": [
      "83090.06666666667\n"
     ]
    },
    {
     "data": {
      "image/png": "[encoded data removed]",
      "text/plain": [
       "<Figure size 432x288 with 1 Axes>"
      ]
     },
     "metadata": {
      "needs_background": "light"
     },
     "output_type": "display_data"
    }
   ],
   "source": [
    "mean_Ntests = np.sum(Ntests)/len(Ntests)\n",
    "mean_Npositives = np.sum(Npositives)/len(Npositives)\n",
    "print(mean_Ntests)\n",
    "plt.scatter(date,Ntests)\n",
    "plt.show()"
   ]
  },
  {
   "cell_type": "code",
   "execution_count": 5,
   "metadata": {},
   "outputs": [],
   "source": [
    "scaled_positives = Npositives * (Ntests/mean_Ntests)**(-0.7)"
   ]
  },
  {
   "cell_type": "code",
   "execution_count": 35,
   "metadata": {},
   "outputs": [],
   "source": [
    "def SP_func_1(t, SP0, R, t0):\n",
    "    tG=4.7\n",
    "    return SP0 * R**((t-t0)/tG)\n",
    "\n",
    "def do_a_chi2_fit(x_data, y_data, sigma_y_data, f, init_guess):\n",
    "    \"\"\"Does a chi2 fit, plots results and returns the minuit output\n",
    "    init_guess needs to have the initial fit parameters in a list format (e.g. [a,b,c])\"\"\"\n",
    "    chi2 = Chi2Regression(f, x_data, y_data, sigma_y_data)\n",
    "    chi2.errordef = 1\n",
    "    minuit_chi2 = Minuit(chi2, *init_guess) #   \n",
    "    display(minuit_chi2.migrad())          # Perform the actual fit\n",
    "\n",
    "    # Get number of degrees-of-freedom (Ndof):\n",
    "    Ndof_value = len(x_data) - minuit_chi2.nfit\n",
    "\n",
    "    chi2_value = minuit_chi2.fval\n",
    "    p_value = stats.chi2.sf(chi2_value, Ndof_value) # The chi2 probability given N_DOF degrees of freedom\n",
    "    print(f\"Chi2 value: {chi2_value:.1f}   Ndof = {Ndof_value:.0f}    Prob(Chi2,Ndof) = {p_value:5.10f}\")\n",
    "\n",
    "    return minuit_chi2, Ndof_value, p_value"
   ]
  },
  {
   "cell_type": "code",
   "execution_count": 51,
   "metadata": {},
   "outputs": [
    {
     "data": {
      "text/html": [
       "<table>\n",
       "    <tr>\n",
       "        <th colspan=\"5\" style=\"text-align:center\" title=\"Minimizer\"> Migrad </th>\n",
       "    </tr>\n",
       "    <tr>\n",
       "        <td colspan=\"2\" style=\"text-align:left\" title=\"Minimum value of function\"> FCN = 21.02 </td>\n",
       "        <td colspan=\"3\" style=\"text-align:center\" title=\"No. of function evaluations in last call and total number\"> Nfcn = 84 </td>\n",
       "    </tr>\n",
       "    <tr>\n",
       "        <td colspan=\"2\" style=\"text-align:left\" title=\"Estimated distance to minimum and goal\"> EDM = 6.77e-05 (Goal: 0.0002) </td>\n",
       "        <td colspan=\"3\" style=\"text-align:center\" title=\"No. of gradient evaluations in last call and total number\">  </td>\n",
       "    </tr>\n",
       "    <tr>\n",
       "        <td colspan=\"2\" style=\"text-align:center;background-color:#92CCA6;color:black\"> Valid Minimum </td>\n",
       "        <td colspan=\"3\" style=\"text-align:center;background-color:#92CCA6;color:black\"> No Parameters at limit </td>\n",
       "    </tr>\n",
       "    <tr>\n",
       "        <td colspan=\"2\" style=\"text-align:center;background-color:#92CCA6;color:black\"> Below EDM threshold (goal x 10) </td>\n",
       "        <td colspan=\"3\" style=\"text-align:center;background-color:#92CCA6;color:black\"> Below call limit </td>\n",
       "    </tr>\n",
       "    <tr>\n",
       "        <td style=\"text-align:center;background-color:#92CCA6;color:black\"> Covariance </td>\n",
       "        <td style=\"text-align:center;background-color:#92CCA6;color:black\"> Hesse ok </td>\n",
       "        <td style=\"text-align:center;background-color:#FFF79A;color:black\" title=\"Is covariance matrix accurate?\"> APPROXIMATE </td>\n",
       "        <td style=\"text-align:center;background-color:#c15ef7;color:black\" title=\"Is covariance matrix positive definite?\"> NOT pos. def. </td>\n",
       "        <td style=\"text-align:center;background-color:#c15ef7;color:black\" title=\"Was positive definiteness enforced by Minuit?\"> FORCED </td>\n",
       "    </tr>\n",
       "</table><table>\n",
       "    <tr>\n",
       "        <td></td>\n",
       "        <th title=\"Variable name\"> Name </th>\n",
       "        <th title=\"Value of parameter\"> Value </th>\n",
       "        <th title=\"Hesse error\"> Hesse Error </th>\n",
       "        <th title=\"Minos lower error\"> Minos Error- </th>\n",
       "        <th title=\"Minos upper error\"> Minos Error+ </th>\n",
       "        <th title=\"Lower limit of the parameter\"> Limit- </th>\n",
       "        <th title=\"Upper limit of the parameter\"> Limit+ </th>\n",
       "        <th title=\"Is the parameter fixed in the fit\"> Fixed </th>\n",
       "    </tr>\n",
       "    <tr>\n",
       "        <th> 0 </th>\n",
       "        <td> SP0 </td>\n",
       "        <td> 3.2e3 </td>\n",
       "        <td> 1.0e3 </td>\n",
       "        <td>  </td>\n",
       "        <td>  </td>\n",
       "        <td>  </td>\n",
       "        <td>  </td>\n",
       "        <td>  </td>\n",
       "    </tr>\n",
       "    <tr>\n",
       "        <th> 1 </th>\n",
       "        <td> R </td>\n",
       "        <td> 0.723 </td>\n",
       "        <td> 0.020 </td>\n",
       "        <td>  </td>\n",
       "        <td>  </td>\n",
       "        <td>  </td>\n",
       "        <td>  </td>\n",
       "        <td>  </td>\n",
       "    </tr>\n",
       "    <tr>\n",
       "        <th> 2 </th>\n",
       "        <td> t0 </td>\n",
       "        <td> -3 </td>\n",
       "        <td> 5 </td>\n",
       "        <td>  </td>\n",
       "        <td>  </td>\n",
       "        <td>  </td>\n",
       "        <td>  </td>\n",
       "        <td>  </td>\n",
       "    </tr>\n",
       "</table><table>\n",
       "    <tr>\n",
       "        <td></td>\n",
       "        <th> SP0 </th>\n",
       "        <th> R </th>\n",
       "        <th> t0 </th>\n",
       "    </tr>\n",
       "    <tr>\n",
       "        <th> SP0 </th>\n",
       "        <td> 9.91e+05 </td>\n",
       "        <td style=\"background-color:rgb(236,236,250);color:black\"> -2.05 <strong>(-0.104)</strong> </td>\n",
       "        <td style=\"background-color:rgb(123,123,250);color:black\"> -4.37e+03 <strong>(-0.974)</strong> </td>\n",
       "    </tr>\n",
       "    <tr>\n",
       "        <th> R </th>\n",
       "        <td style=\"background-color:rgb(236,236,250);color:black\"> -2.05 <strong>(-0.104)</strong> </td>\n",
       "        <td> 0.00039 </td>\n",
       "        <td style=\"background-color:rgb(236,236,250);color:black\"> -0.00986 <strong>(-0.111)</strong> </td>\n",
       "    </tr>\n",
       "    <tr>\n",
       "        <th> t0 </th>\n",
       "        <td style=\"background-color:rgb(123,123,250);color:black\"> -4.37e+03 <strong>(-0.974)</strong> </td>\n",
       "        <td style=\"background-color:rgb(236,236,250);color:black\"> -0.00986 <strong>(-0.111)</strong> </td>\n",
       "        <td> 20.3 </td>\n",
       "    </tr>\n",
       "</table>"
      ],
      "text/plain": [
       "┌─────────────────────────────────────────────────────────────────────────┐\n",
       "│                                Migrad                                   │\n",
       "├──────────────────────────────────┬──────────────────────────────────────┤\n",
       "│ FCN = 21.02                      │              Nfcn = 84               │\n",
       "│ EDM = 6.77e-05 (Goal: 0.0002)    │                                      │\n",
       "├──────────────────────────────────┼──────────────────────────────────────┤\n",
       "│          Valid Minimum           │        No Parameters at limit        │\n",
       "├──────────────────────────────────┼──────────────────────────────────────┤\n",
       "│ Below EDM threshold (goal x 10)  │           Below call limit           │\n",
       "├───────────────┬──────────────────┼───────────┬─────────────┬────────────┤\n",
       "│  Covariance   │     Hesse ok     │APPROXIMATE│NOT pos. def.│   FORCED   │\n",
       "└───────────────┴──────────────────┴───────────┴─────────────┴────────────┘\n",
       "┌───┬──────┬───────────┬───────────┬────────────┬────────────┬─────────┬─────────┬───────┐\n",
       "│   │ Name │   Value   │ Hesse Err │ Minos Err- │ Minos Err+ │ Limit-  │ Limit+  │ Fixed │\n",
       "├───┼──────┼───────────┼───────────┼────────────┼────────────┼─────────┼─────────┼───────┤\n",
       "│ 0 │ SP0  │   3.2e3   │   1.0e3   │            │            │         │         │       │\n",
       "│ 1 │ R    │   0.723   │   0.020   │            │            │         │         │       │\n",
       "│ 2 │ t0   │    -3     │     5     │            │            │         │         │       │\n",
       "└───┴──────┴───────────┴───────────┴────────────┴────────────┴─────────┴─────────┴───────┘\n",
       "┌─────┬───────────────────────────────┐\n",
       "│     │       SP0         R        t0 │\n",
       "├─────┼───────────────────────────────┤\n",
       "│ SP0 │  9.91e+05     -2.05 -4.37e+03 │\n",
       "│   R │     -2.05   0.00039  -0.00986 │\n",
       "│  t0 │ -4.37e+03  -0.00986      20.3 │\n",
       "└─────┴───────────────────────────────┘"
      ]
     },
     "metadata": {},
     "output_type": "display_data"
    },
    {
     "name": "stdout",
     "output_type": "stream",
     "text": [
      "Chi2 value: 21.0   Ndof = 12    Prob(Chi2,Ndof) = 0.0500377832\n"
     ]
    },
    {
     "data": {
      "image/png": "[encoded data removed]",
      "text/plain": [
       "<Figure size 432x288 with 1 Axes>"
      ]
     },
     "metadata": {
      "needs_background": "light"
     },
     "output_type": "display_data"
    }
   ],
   "source": [
    "# Do a chi2 fit\n",
    "forced_sigma_SP = 122.3\n",
    "minuit_chi2, Ndof_value, p_value = do_a_chi2_fit(date, scaled_positives, forced_sigma_SP, SP_func_1, [10000, 0.5, 0])\n",
    "\n",
    "# Plot\n",
    "x_axis = np.linspace(np.min(date), np.max(date), 1000)\n",
    "y_axis = SP_func_1(x_axis,*minuit_chi2.values)\n",
    "\n",
    "fig2, ax2 = plt.subplots()\n",
    "ax2.errorbar(date, scaled_positives, yerr=forced_sigma_SP, label='Data')\n",
    "ax2.plot(x_axis, y_axis,label=f'Chi2 fit\\np(Chi2={minuit_chi2.fval:.1f},Ndof={Ndof_value:d}) = {p_value:.5f}')\n",
    "\n",
    "ax2.set_xlabel(r'Day')\n",
    "ax2.set_ylabel(r'Scaled positives')\n",
    "\n",
    "#ax2.set_xscale('log')\n",
    "#ax2.set_yscale('log')\n",
    "\n",
    "ax2.legend()\n",
    "\n",
    "plt.show()"
   ]
  }
 ],
 "metadata": {
  "executable": "/usr/bin/env python",
  "kernelspec": {
   "display_name": "Python 3",
   "language": "python",
   "name": "python3"
  },
  "language_info": {
   "codemirror_mode": {
    "name": "ipython",
    "version": 3
   },
   "file_extension": ".py",
   "mimetype": "text/x-python",
   "name": "python",
   "nbconvert_exporter": "python",
   "pygments_lexer": "ipython3",
   "version": "3.8.8"
  },
  "main_language": "python"
 },
 "nbformat": 4,
 "nbformat_minor": 2
}

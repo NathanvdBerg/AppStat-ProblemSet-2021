{
 "cells": [
  {
   "cell_type": "code",
   "execution_count": 1,
   "id": "1827936e",
   "metadata": {},
   "outputs": [],
   "source": [
    "import numpy as np\n",
    "import matplotlib.pyplot as plt\n",
    "\n",
    "from ExternalFunctions import Chi2Regression\n",
    "\n",
    "from scipy import stats\n",
    "from iminuit import Minuit                             # The actual fitting tool, better than scipy's"
   ]
  },
  {
   "cell_type": "code",
   "execution_count": 2,
   "id": "7c9c750e",
   "metadata": {},
   "outputs": [],
   "source": [
    "def f(t, tau):\n",
    "    return 1/tau * np.exp(-t/tau)\n",
    "\n",
    "def F_inverted(p, tau):\n",
    "    \"\"\"p should be uniform random numbers\"\"\"\n",
    "    return -tau * np.log(1 - p)"
   ]
  },
  {
   "cell_type": "code",
   "execution_count": 3,
   "id": "d6544821",
   "metadata": {
    "scrolled": false
   },
   "outputs": [
    {
     "data": {
      "image/png": "[encoded data removed]",
      "text/plain": [
       "<Figure size 432x288 with 1 Axes>"
      ]
     },
     "metadata": {
      "needs_background": "light"
     },
     "output_type": "display_data"
    }
   ],
   "source": [
    "np.random.seed(seed=42)\n",
    "\n",
    "tau = 0.8\n",
    "Nrand = 10000 # Number of random numbers to generate\n",
    "\n",
    "u = np.zeros(Nrand)\n",
    "\n",
    "# generate uniform random numbers\n",
    "for i in range(4):\n",
    "    p = np.random.uniform(size=Nrand)\n",
    "    #plt.hist(p,bins=bins)\n",
    "    #plt.show()\n",
    "    t = F_inverted(p, tau)\n",
    "    #plt.hist(t,bins=bins)\n",
    "    #plt.show()\n",
    "    u += t\n",
    "    \n",
    "fig1, ax1 = plt.subplots()\n",
    "# Set up the bins in a smart way\n",
    "Nbins = 20+1\n",
    "my_range = (-0.25, (Nbins-1)/2 + 0.25)\n",
    "\n",
    "counts, bin_edges, garbage = ax1.hist(u, bins=Nbins, range=my_range)\n",
    "bin_centers = (bin_edges[1:] + bin_edges[:-1])/2\n",
    "\n",
    "ax1.set_ylabel('Count')\n",
    "plt.show()"
   ]
  },
  {
   "cell_type": "code",
   "execution_count": 4,
   "id": "05e999c4",
   "metadata": {},
   "outputs": [
    {
     "name": "stdout",
     "output_type": "stream",
     "text": [
      "[ 0.   0.5  1.   1.5  2.   2.5  3.   3.5  4.   4.5  5.   5.5  6.   6.5\n",
      "  7.   7.5  8.   8.5  9.   9.5 10. ]\n"
     ]
    }
   ],
   "source": [
    "print(bin_centers)"
   ]
  },
  {
   "cell_type": "code",
   "execution_count": 5,
   "id": "6b4051b6",
   "metadata": {},
   "outputs": [],
   "source": [
    "def pearson_chi2(count_measured, count_model):\n",
    "    chi2_value = 0\n",
    "    for i in range(len(count_measured)):\n",
    "        chi2_value += (count_measured[i] - count_model[i])**2/count_model[i]\n",
    "    \n",
    "    #chi2_value = np.sum( (count_measured - count_model)**2/count_model)\n",
    "    return chi2_value\n",
    "\n",
    "\n",
    "# Define your PDF / model \n",
    "def gauss_pdf(x, mu, sigma):\n",
    "    \"\"\"Normalized Gaussian\"\"\"\n",
    "    return 1 / np.sqrt(2 * np.pi) / sigma * np.exp(-(x - mu) ** 2 / 2. / sigma ** 2)\n",
    "\n",
    "def gauss_extended(x, N, mu, sigma):\n",
    "    \"\"\"Non-normalized Gaussian\"\"\"\n",
    "    return N * gauss_pdf(x, mu, sigma)"
   ]
  },
  {
   "cell_type": "code",
   "execution_count": 6,
   "id": "2dbfb016",
   "metadata": {},
   "outputs": [
    {
     "data": {
      "text/html": [
       "<table>\n",
       "    <tr>\n",
       "        <th colspan=\"5\" style=\"text-align:center\" title=\"Minimizer\"> Migrad </th>\n",
       "    </tr>\n",
       "    <tr>\n",
       "        <td colspan=\"2\" style=\"text-align:left\" title=\"Minimum value of function\"> FCN = 2098 </td>\n",
       "        <td colspan=\"3\" style=\"text-align:center\" title=\"No. of function evaluations in last call and total number\"> Nfcn = 97 </td>\n",
       "    </tr>\n",
       "    <tr>\n",
       "        <td colspan=\"2\" style=\"text-align:left\" title=\"Estimated distance to minimum and goal\"> EDM = 9.82e-07 (Goal: 0.0002) </td>\n",
       "        <td colspan=\"3\" style=\"text-align:center\" title=\"No. of gradient evaluations in last call and total number\">  </td>\n",
       "    </tr>\n",
       "    <tr>\n",
       "        <td colspan=\"2\" style=\"text-align:center;background-color:#92CCA6;color:black\"> Valid Minimum </td>\n",
       "        <td colspan=\"3\" style=\"text-align:center;background-color:#92CCA6;color:black\"> No Parameters at limit </td>\n",
       "    </tr>\n",
       "    <tr>\n",
       "        <td colspan=\"2\" style=\"text-align:center;background-color:#92CCA6;color:black\"> Below EDM threshold (goal x 10) </td>\n",
       "        <td colspan=\"3\" style=\"text-align:center;background-color:#92CCA6;color:black\"> Below call limit </td>\n",
       "    </tr>\n",
       "    <tr>\n",
       "        <td style=\"text-align:center;background-color:#92CCA6;color:black\"> Covariance </td>\n",
       "        <td style=\"text-align:center;background-color:#92CCA6;color:black\"> Hesse ok </td>\n",
       "        <td style=\"text-align:center;background-color:#92CCA6;color:black\" title=\"Is covariance matrix accurate?\"> Accurate </td>\n",
       "        <td style=\"text-align:center;background-color:#92CCA6;color:black\" title=\"Is covariance matrix positive definite?\"> Pos. def. </td>\n",
       "        <td style=\"text-align:center;background-color:#92CCA6;color:black\" title=\"Was positive definiteness enforced by Minuit?\"> Not forced </td>\n",
       "    </tr>\n",
       "</table><table>\n",
       "    <tr>\n",
       "        <td></td>\n",
       "        <th title=\"Variable name\"> Name </th>\n",
       "        <th title=\"Value of parameter\"> Value </th>\n",
       "        <th title=\"Hesse error\"> Hesse Error </th>\n",
       "        <th title=\"Minos lower error\"> Minos Error- </th>\n",
       "        <th title=\"Minos upper error\"> Minos Error+ </th>\n",
       "        <th title=\"Lower limit of the parameter\"> Limit- </th>\n",
       "        <th title=\"Upper limit of the parameter\"> Limit+ </th>\n",
       "        <th title=\"Is the parameter fixed in the fit\"> Fixed </th>\n",
       "    </tr>\n",
       "    <tr>\n",
       "        <th> 0 </th>\n",
       "        <td> N </td>\n",
       "        <td> 3.95e3 </td>\n",
       "        <td> 0.05e3 </td>\n",
       "        <td>  </td>\n",
       "        <td>  </td>\n",
       "        <td>  </td>\n",
       "        <td>  </td>\n",
       "        <td>  </td>\n",
       "    </tr>\n",
       "    <tr>\n",
       "        <th> 1 </th>\n",
       "        <td> mu </td>\n",
       "        <td> 3.139 </td>\n",
       "        <td> 0.023 </td>\n",
       "        <td>  </td>\n",
       "        <td>  </td>\n",
       "        <td>  </td>\n",
       "        <td>  </td>\n",
       "        <td>  </td>\n",
       "    </tr>\n",
       "    <tr>\n",
       "        <th> 2 </th>\n",
       "        <td> sigma </td>\n",
       "        <td> 1.057 </td>\n",
       "        <td> 0.010 </td>\n",
       "        <td>  </td>\n",
       "        <td>  </td>\n",
       "        <td>  </td>\n",
       "        <td>  </td>\n",
       "        <td>  </td>\n",
       "    </tr>\n",
       "</table><table>\n",
       "    <tr>\n",
       "        <td></td>\n",
       "        <th> N </th>\n",
       "        <th> mu </th>\n",
       "        <th> sigma </th>\n",
       "    </tr>\n",
       "    <tr>\n",
       "        <th> N </th>\n",
       "        <td> 2.05e+03 </td>\n",
       "        <td style=\"background-color:rgb(246,246,250);color:black\"> -0.0285 </td>\n",
       "        <td style=\"background-color:rgb(246,246,250);color:black\"> -0.0144 <strong>(-0.032)</strong> </td>\n",
       "    </tr>\n",
       "    <tr>\n",
       "        <th> mu </th>\n",
       "        <td style=\"background-color:rgb(246,246,250);color:black\"> -0.0285 </td>\n",
       "        <td> 0.000505 </td>\n",
       "        <td style=\"background-color:rgb(250,123,123);color:black\"> 0.000189 <strong>(0.848)</strong> </td>\n",
       "    </tr>\n",
       "    <tr>\n",
       "        <th> sigma </th>\n",
       "        <td style=\"background-color:rgb(246,246,250);color:black\"> -0.0144 <strong>(-0.032)</strong> </td>\n",
       "        <td style=\"background-color:rgb(250,123,123);color:black\"> 0.000189 <strong>(0.848)</strong> </td>\n",
       "        <td> 9.84e-05 </td>\n",
       "    </tr>\n",
       "</table>"
      ],
      "text/plain": [
       "┌─────────────────────────────────────────────────────────────────────────┐\n",
       "│                                Migrad                                   │\n",
       "├──────────────────────────────────┬──────────────────────────────────────┤\n",
       "│ FCN = 2098                       │              Nfcn = 97               │\n",
       "│ EDM = 9.82e-07 (Goal: 0.0002)    │                                      │\n",
       "├──────────────────────────────────┼──────────────────────────────────────┤\n",
       "│          Valid Minimum           │        No Parameters at limit        │\n",
       "├──────────────────────────────────┼──────────────────────────────────────┤\n",
       "│ Below EDM threshold (goal x 10)  │           Below call limit           │\n",
       "├───────────────┬──────────────────┼───────────┬─────────────┬────────────┤\n",
       "│  Covariance   │     Hesse ok     │ Accurate  │  Pos. def.  │ Not forced │\n",
       "└───────────────┴──────────────────┴───────────┴─────────────┴────────────┘\n",
       "┌───┬───────┬───────────┬───────────┬────────────┬────────────┬─────────┬─────────┬───────┐\n",
       "│   │ Name  │   Value   │ Hesse Err │ Minos Err- │ Minos Err+ │ Limit-  │ Limit+  │ Fixed │\n",
       "├───┼───────┼───────────┼───────────┼────────────┼────────────┼─────────┼─────────┼───────┤\n",
       "│ 0 │ N     │  3.95e3   │  0.05e3   │            │            │         │         │       │\n",
       "│ 1 │ mu    │   3.139   │   0.023   │            │            │         │         │       │\n",
       "│ 2 │ sigma │   1.057   │   0.010   │            │            │         │         │       │\n",
       "└───┴───────┴───────────┴───────────┴────────────┴────────────┴─────────┴─────────┴───────┘\n",
       "┌───────┬────────────────────────────┐\n",
       "│       │        N       mu    sigma │\n",
       "├───────┼────────────────────────────┤\n",
       "│     N │ 2.05e+03  -0.0285  -0.0144 │\n",
       "│    mu │  -0.0285 0.000505 0.000189 │\n",
       "│ sigma │  -0.0144 0.000189 9.84e-05 │\n",
       "└───────┴────────────────────────────┘"
      ]
     },
     "metadata": {},
     "output_type": "display_data"
    },
    {
     "data": {
      "image/png": "[encoded data removed]",
      "text/plain": [
       "<Figure size 432x288 with 1 Axes>"
      ]
     },
     "metadata": {
      "needs_background": "light"
     },
     "output_type": "display_data"
    },
    {
     "name": "stdout",
     "output_type": "stream",
     "text": [
      "Chi2 value: 2097.5   Ndof = 18    Prob(Chi2,Ndof) = 0.000\n"
     ]
    }
   ],
   "source": [
    "#chi2 = Chi2Regression(gaus_extended, x, y, sy)\n",
    "#chi2.errordef = 1\n",
    "#minuit = Minuit(chi2, N=N_experiments, n=N_trials, p=p_success) #   \n",
    "#minuit.migrad()          # Perform the actual fit\n",
    "\n",
    "fig2, ax2 = plt.subplots()\n",
    "ax2.scatter(bin_centers, counts, color='red', label='Generated data')\n",
    "\n",
    "# Do a Pearson chi2 reduction\n",
    "#minuit = Minuit(pearson_chi2(counts, gauss_extended(bin_centers, N, mu, sigma)), N=Nrand, mu=3, sigma=2)\n",
    "\n",
    "# Do a Pearson chi2 reduction, i.e. y_err = sqrt(y)\n",
    "chi2 = Chi2Regression(gauss_extended, bin_centers, counts, np.sqrt(counts))\n",
    "chi2.errordef = 1\n",
    "minuit_chi2 = Minuit(chi2, N=Nrand, mu=3, sigma=2) #   \n",
    "display(minuit_chi2.migrad())          # Perform the actual fit\n",
    "\n",
    "N_fit = minuit_chi2.values[0]\n",
    "mu_fit = minuit_chi2.values[1]\n",
    "sigma_fit = minuit_chi2.values[2]\n",
    "\n",
    "t = np.linspace(0,10,1000)\n",
    "\n",
    "ax2.plot(t, gauss_extended(t, N_fit, mu_fit, sigma_fit), color='blue', label='Chi2 fit to Gaussian')\n",
    "\n",
    "ax2.set_ylabel('Count')\n",
    "ax2.legend()\n",
    "plt.show()\n",
    "\n",
    "# Get number of degrees-of-freedom (Ndof):\n",
    "N_NotEmptyBin = np.sum(counts > 0)\n",
    "Ndof_value = N_NotEmptyBin - minuit_chi2.nfit\n",
    "\n",
    "chi2_value = minuit_chi2.fval\n",
    "p_value = stats.chi2.sf(chi2_value, Ndof_value) # The chi2 probability given N_DOF degrees of freedom\n",
    "print(f\"Chi2 value: {chi2_value:.1f}   Ndof = {Ndof_value:.0f}    Prob(Chi2,Ndof) = {p_value:5.3f}\")"
   ]
  },
  {
   "cell_type": "markdown",
   "id": "6d97123a",
   "metadata": {},
   "source": [
    "Try with normalized bins"
   ]
  },
  {
   "cell_type": "code",
   "execution_count": 9,
   "id": "e0faefae",
   "metadata": {},
   "outputs": [
    {
     "data": {
      "image/png": "[encoded data removed]",
      "text/plain": [
       "<Figure size 432x288 with 1 Axes>"
      ]
     },
     "metadata": {
      "needs_background": "light"
     },
     "output_type": "display_data"
    },
    {
     "name": "stderr",
     "output_type": "stream",
     "text": [
      "../External_Functions\\ExternalFunctions.py:121: RuntimeWarning: divide by zero encountered in true_divide\n",
      "  chi2 = np.sum(self.weights*(self.y - f)**2/self.sy**2)\n"
     ]
    },
    {
     "data": {
      "text/html": [
       "<table>\n",
       "    <tr>\n",
       "        <th colspan=\"5\" style=\"text-align:center\" title=\"Minimizer\"> Migrad </th>\n",
       "    </tr>\n",
       "    <tr>\n",
       "        <td colspan=\"2\" style=\"text-align:left\" title=\"Minimum value of function\"> FCN = inf </td>\n",
       "        <td colspan=\"3\" style=\"text-align:center\" title=\"No. of function evaluations in last call and total number\"> Nfcn = 66 </td>\n",
       "    </tr>\n",
       "    <tr>\n",
       "        <td colspan=\"2\" style=\"text-align:left\" title=\"Estimated distance to minimum and goal\"> EDM = nan (Goal: 0.0002) </td>\n",
       "        <td colspan=\"3\" style=\"text-align:center\" title=\"No. of gradient evaluations in last call and total number\">  </td>\n",
       "    </tr>\n",
       "    <tr>\n",
       "        <td colspan=\"2\" style=\"text-align:center;background-color:#92CCA6;color:black\"> Valid Minimum </td>\n",
       "        <td colspan=\"3\" style=\"text-align:center;background-color:#92CCA6;color:black\"> No Parameters at limit </td>\n",
       "    </tr>\n",
       "    <tr>\n",
       "        <td colspan=\"2\" style=\"text-align:center;background-color:#92CCA6;color:black\"> Below EDM threshold (goal x 10) </td>\n",
       "        <td colspan=\"3\" style=\"text-align:center;background-color:#92CCA6;color:black\"> Below call limit </td>\n",
       "    </tr>\n",
       "    <tr>\n",
       "        <td style=\"text-align:center;background-color:#92CCA6;color:black\"> Covariance </td>\n",
       "        <td style=\"text-align:center;background-color:#92CCA6;color:black\"> Hesse ok </td>\n",
       "        <td style=\"text-align:center;background-color:#FFF79A;color:black\" title=\"Is covariance matrix accurate?\"> APPROXIMATE </td>\n",
       "        <td style=\"text-align:center;background-color:#c15ef7;color:black\" title=\"Is covariance matrix positive definite?\"> NOT pos. def. </td>\n",
       "        <td style=\"text-align:center;background-color:#c15ef7;color:black\" title=\"Was positive definiteness enforced by Minuit?\"> FORCED </td>\n",
       "    </tr>\n",
       "</table><table>\n",
       "    <tr>\n",
       "        <td></td>\n",
       "        <th title=\"Variable name\"> Name </th>\n",
       "        <th title=\"Value of parameter\"> Value </th>\n",
       "        <th title=\"Hesse error\"> Hesse Error </th>\n",
       "        <th title=\"Minos lower error\"> Minos Error- </th>\n",
       "        <th title=\"Minos upper error\"> Minos Error+ </th>\n",
       "        <th title=\"Lower limit of the parameter\"> Limit- </th>\n",
       "        <th title=\"Upper limit of the parameter\"> Limit+ </th>\n",
       "        <th title=\"Is the parameter fixed in the fit\"> Fixed </th>\n",
       "    </tr>\n",
       "    <tr>\n",
       "        <th> 0 </th>\n",
       "        <td> mu </td>\n",
       "        <td> 3 </td>\n",
       "        <td> nan </td>\n",
       "        <td>  </td>\n",
       "        <td>  </td>\n",
       "        <td>  </td>\n",
       "        <td>  </td>\n",
       "        <td>  </td>\n",
       "    </tr>\n",
       "    <tr>\n",
       "        <th> 1 </th>\n",
       "        <td> sigma </td>\n",
       "        <td> 2 </td>\n",
       "        <td> nan </td>\n",
       "        <td>  </td>\n",
       "        <td>  </td>\n",
       "        <td>  </td>\n",
       "        <td>  </td>\n",
       "        <td>  </td>\n",
       "    </tr>\n",
       "</table><table>\n",
       "    <tr>\n",
       "        <td></td>\n",
       "        <th> mu </th>\n",
       "        <th> sigma </th>\n",
       "    </tr>\n",
       "    <tr>\n",
       "        <th> mu </th>\n",
       "        <td> nan </td>\n",
       "        <td style=\"background-color:rgb(nan,nan,nan);color:black\"> nan </td>\n",
       "    </tr>\n",
       "    <tr>\n",
       "        <th> sigma </th>\n",
       "        <td style=\"background-color:rgb(nan,nan,nan);color:black\"> nan </td>\n",
       "        <td> nan </td>\n",
       "    </tr>\n",
       "</table>"
      ],
      "text/plain": [
       "┌─────────────────────────────────────────────────────────────────────────┐\n",
       "│                                Migrad                                   │\n",
       "├──────────────────────────────────┬──────────────────────────────────────┤\n",
       "│ FCN = inf                        │              Nfcn = 66               │\n",
       "│ EDM = nan (Goal: 0.0002)         │                                      │\n",
       "├──────────────────────────────────┼──────────────────────────────────────┤\n",
       "│          Valid Minimum           │        No Parameters at limit        │\n",
       "├──────────────────────────────────┼──────────────────────────────────────┤\n",
       "│ Below EDM threshold (goal x 10)  │           Below call limit           │\n",
       "├───────────────┬──────────────────┼───────────┬─────────────┬────────────┤\n",
       "│  Covariance   │     Hesse ok     │APPROXIMATE│NOT pos. def.│   FORCED   │\n",
       "└───────────────┴──────────────────┴───────────┴─────────────┴────────────┘\n",
       "┌───┬───────┬───────────┬───────────┬────────────┬────────────┬─────────┬─────────┬───────┐\n",
       "│   │ Name  │   Value   │ Hesse Err │ Minos Err- │ Minos Err+ │ Limit-  │ Limit+  │ Fixed │\n",
       "├───┼───────┼───────────┼───────────┼────────────┼────────────┼─────────┼─────────┼───────┤\n",
       "│ 0 │ mu    │     3     │    nan    │            │            │         │         │       │\n",
       "│ 1 │ sigma │     2     │    nan    │            │            │         │         │       │\n",
       "└───┴───────┴───────────┴───────────┴────────────┴────────────┴─────────┴─────────┴───────┘\n",
       "┌───────┬─────────────┐\n",
       "│       │    mu sigma │\n",
       "├───────┼─────────────┤\n",
       "│    mu │   nan   nan │\n",
       "│ sigma │   nan   nan │\n",
       "└───────┴─────────────┘"
      ]
     },
     "metadata": {},
     "output_type": "display_data"
    },
    {
     "data": {
      "image/png": "[encoded data removed]",
      "text/plain": [
       "<Figure size 432x288 with 1 Axes>"
      ]
     },
     "metadata": {
      "needs_background": "light"
     },
     "output_type": "display_data"
    },
    {
     "name": "stdout",
     "output_type": "stream",
     "text": [
      "Chi2 value: inf   Ndof = 38    Prob(Chi2,Ndof) = 0.000\n"
     ]
    }
   ],
   "source": [
    "np.random.seed(seed=42)\n",
    "\n",
    "tau = 0.8\n",
    "Nrand = 10000 # Number of random numbers to generate\n",
    "\n",
    "u = np.zeros(Nrand)\n",
    "\n",
    "# generate uniform random numbers\n",
    "for i in range(4):\n",
    "    p = np.random.uniform(size=Nrand)\n",
    "    #plt.hist(p,bins=bins)\n",
    "    #plt.show()\n",
    "    t = F_inverted(p, tau)\n",
    "    #plt.hist(t,bins=bins)\n",
    "    #plt.show()\n",
    "    u += t\n",
    "    \n",
    "fig1, ax1 = plt.subplots()\n",
    "# Set up the bins in a smart way\n",
    "Nbins = 40+1\n",
    "my_range = (-0.25/2, (Nbins/2-1)/2 + 0.25/2)\n",
    "\n",
    "counts, bin_edges, garbage = ax1.hist(u, bins=Nbins, range=my_range, density=True)\n",
    "bin_centers = (bin_edges[1:] + bin_edges[:-1])/2\n",
    "\n",
    "ax1.set_ylabel('Count')\n",
    "plt.show()\n",
    "\n",
    "fig2, ax2 = plt.subplots()\n",
    "ax2.scatter(bin_centers, counts, color='red', label='Generated data')\n",
    "\n",
    "# Do a Pearson chi2 reduction\n",
    "#minuit = Minuit(pearson_chi2(counts, gauss_extended(bin_centers, N, mu, sigma)), N=Nrand, mu=3, sigma=2)\n",
    "\n",
    "# Do a Pearson chi2 reduction, i.e. y_err = sqrt(y)\n",
    "chi2 = Chi2Regression(gauss_pdf, bin_centers, counts, np.sqrt(counts))\n",
    "chi2.errordef = 1\n",
    "minuit_chi2 = Minuit(chi2, mu=3, sigma=2) #   \n",
    "display(minuit_chi2.migrad())          # Perform the actual fit\n",
    "\n",
    "mu_fit = minuit_chi2.values[0]\n",
    "sigma_fit = minuit_chi2.values[1]\n",
    "\n",
    "t = np.linspace(0,10,1000)\n",
    "\n",
    "ax2.plot(t, gauss_pdf(t, mu_fit, sigma_fit), color='blue', label='Chi2 fit to Gaussian')\n",
    "\n",
    "ax2.set_ylabel('Count')\n",
    "ax2.legend()\n",
    "plt.show()\n",
    "\n",
    "# Get number of degrees-of-freedom (Ndof):\n",
    "N_NotEmptyBin = np.sum(counts > 0)\n",
    "Ndof_value = N_NotEmptyBin - minuit_chi2.nfit\n",
    "\n",
    "chi2_value = minuit_chi2.fval\n",
    "p_value = stats.chi2.sf(chi2_value, Ndof_value) # The chi2 probability given N_DOF degrees of freedom\n",
    "print(f\"Chi2 value: {chi2_value:.1f}   Ndof = {Ndof_value:.0f}    Prob(Chi2,Ndof) = {p_value:5.3f}\")"
   ]
  }
 ],
 "metadata": {
  "kernelspec": {
   "display_name": "Python 3",
   "language": "python",
   "name": "python3"
  },
  "language_info": {
   "codemirror_mode": {
    "name": "ipython",
    "version": 3
   },
   "file_extension": ".py",
   "mimetype": "text/x-python",
   "name": "python",
   "nbconvert_exporter": "python",
   "pygments_lexer": "ipython3",
   "version": "3.8.8"
  }
 },
 "nbformat": 4,
 "nbformat_minor": 5
}

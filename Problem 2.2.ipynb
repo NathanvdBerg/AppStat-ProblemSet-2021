{
 "cells": [
  {
   "cell_type": "code",
   "execution_count": 1,
   "id": "71b8db79",
   "metadata": {},
   "outputs": [],
   "source": [
    "import numpy as np\n",
    "import sys\n",
    "\n",
    "from ExternalFunctions import Chi2Regression\n",
    "\n",
    "from scipy.stats import chi2"
   ]
  },
  {
   "cell_type": "code",
   "execution_count": 2,
   "id": "9fe984ee",
   "metadata": {},
   "outputs": [],
   "source": [
    "def calculate_weighted_mean(data, uncertainties):\n",
    "    return np.sum(data/uncertainties**2)/np.sum(1./uncertainties**2)\n",
    "\n",
    "def calculate_uncertainty(uncertainties):\n",
    "    return np.sqrt(1./np.sum(1./uncertainties**2))"
   ]
  },
  {
   "cell_type": "code",
   "execution_count": 3,
   "id": "7e0cc1c3",
   "metadata": {},
   "outputs": [
    {
     "name": "stdout",
     "output_type": "stream",
     "text": [
      "g = 9.82 +- 0.02\n"
     ]
    }
   ],
   "source": [
    "g_exp = np.array([9.54, 9.36, 10.02, 9.87, 9.98, 9.86, 9.86, 9.81, 9.79])\n",
    "sigma_g_exp = np.array([0.15, 0.10, 0.11, 0.08, 0.14, 0.06, 0.03, 0.13, 0.04])\n",
    "\n",
    "g_mean = calculate_weighted_mean(g_exp, sigma_g_exp)\n",
    "sigma_g_mean = calculate_uncertainty(sigma_g_exp)\n",
    "\n",
    "print(f'g = {g_mean:.2f} +- {sigma_g_mean:.2f}')"
   ]
  },
  {
   "cell_type": "code",
   "execution_count": 4,
   "id": "388fd7fe",
   "metadata": {},
   "outputs": [
    {
     "name": "stdout",
     "output_type": "stream",
     "text": [
      "Chi2 = 32.4\n",
      "Chi2 p-value = 0.000079\n"
     ]
    }
   ],
   "source": [
    "def calculate_chi2(y, sigma_y, f):\n",
    "    \"\"\"Calculate the chi2 for when the function is a constant value, in this case g\"\"\"\n",
    "    return np.sum( (y - f )**2 / sigma_y**2 )\n",
    "\n",
    "chi2_value = calculate_chi2(g_exp, sigma_g_exp, g_mean)\n",
    "print(f'Chi2 = {chi2_value:.1f}')\n",
    "\n",
    "Ndof = len(g_exp) - 1 # 1 degree of freedom is used for calculating the mean (i.e. for performing the 'fit')\n",
    "chi2_prob = chi2.sf(chi2_value, Ndof)\n",
    "print(f'Chi2 p-value = {chi2_prob:.6f}')"
   ]
  },
  {
   "cell_type": "code",
   "execution_count": 5,
   "id": "d4b0bfef",
   "metadata": {},
   "outputs": [],
   "source": [
    "import matplotlib.pyplot as plt"
   ]
  },
  {
   "cell_type": "code",
   "execution_count": 6,
   "id": "24204b10",
   "metadata": {},
   "outputs": [
    {
     "data": {
      "image/png": "[encoded data removed]",
      "text/plain": [
       "<Figure size 432x288 with 1 Axes>"
      ]
     },
     "metadata": {
      "needs_background": "light"
     },
     "output_type": "display_data"
    }
   ],
   "source": [
    "x_axis = np.arange(len(g_exp))\n",
    "fig,ax = plt.subplots()\n",
    "ax.plot([0, x_axis[-1]],[g_mean, g_mean], color='black', label='Average')\n",
    "ax.plot([0, x_axis[-1]],[g_mean+sigma_g_mean, g_mean+sigma_g_mean], color='grey', label='Upper uncertainty')\n",
    "ax.plot([0, x_axis[-1]],[g_mean-sigma_g_mean, g_mean-sigma_g_mean], color='grey', label='Lower uncertainty')\n",
    "ax.errorbar(x_axis,g_exp, yerr=sigma_g_exp, color='red', label='Data', marker='o', ls='None',zorder=4)\n",
    "\n",
    "ax.set_ylabel(r'g ($m/s^2$)')\n",
    "ax.set_xticks([])\n",
    "plt.legend(loc='lower right')\n",
    "plt.show()"
   ]
  }
 ],
 "metadata": {
  "kernelspec": {
   "display_name": "Python 3",
   "language": "python",
   "name": "python3"
  },
  "language_info": {
   "codemirror_mode": {
    "name": "ipython",
    "version": 3
   },
   "file_extension": ".py",
   "mimetype": "text/x-python",
   "name": "python",
   "nbconvert_exporter": "python",
   "pygments_lexer": "ipython3",
   "version": "3.8.8"
  }
 },
 "nbformat": 4,
 "nbformat_minor": 5
}

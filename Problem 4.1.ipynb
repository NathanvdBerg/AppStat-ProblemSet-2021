{
 "cells": [
  {
   "cell_type": "code",
   "execution_count": 1,
   "id": "ff2c1cc3",
   "metadata": {},
   "outputs": [],
   "source": [
    "import numpy as np\n",
    "from scipy import stats"
   ]
  },
  {
   "cell_type": "code",
   "execution_count": 2,
   "id": "461c670e",
   "metadata": {},
   "outputs": [],
   "source": [
    "N_vac = 21720 # Total number of participants who received the vaccine\n",
    "N_plac = 21728 # Total number of participants who received the placebo\n",
    "\n",
    "N_vac_cov = 8 # Total number of vaccinated participants who got covid-10\n",
    "N_plac_cov = 162 # Total number of unvaccinated participants who got covid-10"
   ]
  },
  {
   "cell_type": "code",
   "execution_count": 3,
   "id": "90e41cc0",
   "metadata": {},
   "outputs": [
    {
     "name": "stdout",
     "output_type": "stream",
     "text": [
      "12.727922061357855\n"
     ]
    }
   ],
   "source": [
    "print(np.sqrt(N_plac_cov))"
   ]
  },
  {
   "cell_type": "code",
   "execution_count": 4,
   "id": "5b7de5ef",
   "metadata": {},
   "outputs": [
    {
     "name": "stdout",
     "output_type": "stream",
     "text": [
      "5.454353785739716e-58\n"
     ]
    }
   ],
   "source": [
    "p_value = stats.poisson.cdf(k=N_vac_cov,mu=N_plac_cov)\n",
    "print(p_value)"
   ]
  },
  {
   "cell_type": "code",
   "execution_count": 5,
   "id": "cb26ae29",
   "metadata": {},
   "outputs": [
    {
     "data": {
      "text/plain": [
       "[<matplotlib.lines.Line2D at 0x2102b0ec460>]"
      ]
     },
     "execution_count": 5,
     "metadata": {},
     "output_type": "execute_result"
    },
    {
     "data": {
      "image/png": "[encoded data removed]",
      "text/plain": [
       "<Figure size 432x288 with 1 Axes>"
      ]
     },
     "metadata": {
      "needs_background": "light"
     },
     "output_type": "display_data"
    }
   ],
   "source": [
    "import matplotlib.pyplot as plt\n",
    "x = np.arange(300)\n",
    "plt.plot(x, stats.poisson.pmf(x,mu=N_plac_cov))"
   ]
  },
  {
   "cell_type": "code",
   "execution_count": 6,
   "id": "0b3e966b",
   "metadata": {},
   "outputs": [],
   "source": [
    "def z_score(val, mu, sigma):\n",
    "    \"\"\"The Z-score describes how many sigma away from the mean a value is.\"\"\"\n",
    "    return (val-mu)/sigma"
   ]
  },
  {
   "cell_type": "code",
   "execution_count": 7,
   "id": "e321cd02",
   "metadata": {},
   "outputs": [
    {
     "name": "stdout",
     "output_type": "stream",
     "text": [
      "Z score of vaccinated people if drawn from the same distribution as the unvaccinated people: -12.099\n"
     ]
    }
   ],
   "source": [
    "z_val = z_score(N_vac_cov, N_plac_cov, np.sqrt(N_plac_cov))\n",
    "print(f'Z score of vaccinated people if drawn from the same distribution as the unvaccinated people: {z_val:.3f}')"
   ]
  },
  {
   "cell_type": "code",
   "execution_count": null,
   "id": "3fd5ebc0",
   "metadata": {},
   "outputs": [],
   "source": []
  },
  {
   "cell_type": "code",
   "execution_count": 8,
   "id": "28169822",
   "metadata": {},
   "outputs": [
    {
     "name": "stdout",
     "output_type": "stream",
     "text": [
      "0.9506172839506173\n"
     ]
    }
   ],
   "source": [
    "efficacy = (N_plac_cov - N_vac_cov)/N_plac_cov\n",
    "print(efficacy)"
   ]
  },
  {
   "cell_type": "code",
   "execution_count": 9,
   "id": "d6ece87c",
   "metadata": {},
   "outputs": [],
   "source": [
    "from IPython.core.display import Latex\n",
    "# Import SymPy: \n",
    "from sympy import * \n",
    "\n",
    "def lprint(*args,**kwargs):\n",
    "    \"\"\"Pretty print arguments as LaTeX using IPython display system \n",
    "    \n",
    "    Parameters\n",
    "    ----------\n",
    "    args : tuple \n",
    "        What to print (in LaTeX math mode)\n",
    "    kwargs : dict \n",
    "        optional keywords to pass to `display` \n",
    "    \"\"\"\n",
    "    display(Latex('$$'+' '.join(args)+'$$'),**kwargs)"
   ]
  },
  {
   "cell_type": "code",
   "execution_count": 10,
   "id": "49ba641a",
   "metadata": {},
   "outputs": [
    {
     "data": {
      "text/latex": [
       "$$E = \\frac{Np - Nv}{Np}$$"
      ],
      "text/plain": [
       "<IPython.core.display.Latex object>"
      ]
     },
     "metadata": {},
     "output_type": "display_data"
    },
    {
     "data": {
      "text/latex": [
       "$$\\sigma_{E} = \\sqrt{\\sigma_{Np}^{2} \\left(\\frac{1}{Np} - \\frac{Np - Nv}{Np^{2}}\\right)^{2} + \\frac{\\sigma_{Nv}^{2}}{Np^{2}}}$$"
      ],
      "text/plain": [
       "<IPython.core.display.Latex object>"
      ]
     },
     "metadata": {},
     "output_type": "display_data"
    },
    {
     "data": {
      "text/latex": [
       "$$E = (0.95062 \\pm 0.01789)$$"
      ],
      "text/plain": [
       "<IPython.core.display.Latex object>"
      ]
     },
     "metadata": {},
     "output_type": "display_data"
    }
   ],
   "source": [
    "Nv, Np, E = symbols('Nv, Np, E')\n",
    "sNv, sNp, sE = symbols('sigma_Nv, sigma_Np, sigma_E')\n",
    "\n",
    "E = (Np - Nv)/Np\n",
    "lprint(latex(Eq(symbols('E'),E)))\n",
    "\n",
    "sE = sqrt( (E.diff(Nv)*sNv)**2 + (E.diff(Np)*sNp)**2 )\n",
    "lprint(latex(Eq(symbols('sigma_E'),sE)))\n",
    "\n",
    "fE = lambdify((Nv,Np),E)\n",
    "fsE = lambdify((Nv,sNv,Np,sNp),sE)\n",
    "\n",
    "vNv = N_vac_cov\n",
    "vNp = N_plac_cov\n",
    "vsNv = np.sqrt(N_vac_cov)\n",
    "vsNp = np.sqrt(N_plac_cov)\n",
    "\n",
    "vE = fE(vNv,vNp)\n",
    "vsE = fsE(vNv,vsNv,vNp,vsNp)\n",
    "\n",
    "lprint(fr'E = ({vE:.5f} \\pm {vsE:.5f})')"
   ]
  },
  {
   "cell_type": "code",
   "execution_count": null,
   "id": "ebbf5c86",
   "metadata": {},
   "outputs": [],
   "source": []
  },
  {
   "cell_type": "code",
   "execution_count": 11,
   "id": "6575bfde",
   "metadata": {},
   "outputs": [
    {
     "name": "stdout",
     "output_type": "stream",
     "text": [
      "0.0012340980408667957\n"
     ]
    }
   ],
   "source": [
    "p_value = stats.poisson.cdf(k=1,mu=9)\n",
    "print(p_value)"
   ]
  },
  {
   "cell_type": "code",
   "execution_count": 12,
   "id": "8af756b0",
   "metadata": {},
   "outputs": [
    {
     "data": {
      "text/plain": [
       "[<matplotlib.lines.Line2D at 0x2102f65ef70>]"
      ]
     },
     "execution_count": 12,
     "metadata": {},
     "output_type": "execute_result"
    },
    {
     "data": {
      "image/png": "[encoded data removed]",
      "text/plain": [
       "<Figure size 432x288 with 1 Axes>"
      ]
     },
     "metadata": {
      "needs_background": "light"
     },
     "output_type": "display_data"
    }
   ],
   "source": [
    "x = np.arange(30)\n",
    "plt.plot(x, stats.poisson.pmf(x,mu=9))"
   ]
  }
 ],
 "metadata": {
  "kernelspec": {
   "display_name": "Python 3",
   "language": "python",
   "name": "python3"
  },
  "language_info": {
   "codemirror_mode": {
    "name": "ipython",
    "version": 3
   },
   "file_extension": ".py",
   "mimetype": "text/x-python",
   "name": "python",
   "nbconvert_exporter": "python",
   "pygments_lexer": "ipython3",
   "version": "3.8.8"
  }
 },
 "nbformat": 4,
 "nbformat_minor": 5
}
